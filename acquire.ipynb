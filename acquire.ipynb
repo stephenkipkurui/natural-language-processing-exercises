{
 "cells": [
  {
   "cell_type": "markdown",
   "id": "aeb33cbb",
   "metadata": {},
   "source": [
    "# Acquire Data through Web Scraping\n",
    "\n",
    "\n",
    "## Data Acquisition\n",
    "\n",
    "Web Source: https://web-scraping-demo.zgulde.net/people"
   ]
  },
  {
   "cell_type": "code",
   "execution_count": 1,
   "id": "f6be7d9c",
   "metadata": {
    "pycharm": {
     "name": "#%%\n"
    }
   },
   "outputs": [],
   "source": [
    "from acquire import get_people_web_scrap_data\n",
    "import pandas as pd\n",
    "from requests import get\n",
    "from bs4 import BeautifulSoup"
   ]
  },
  {
   "cell_type": "code",
   "execution_count": 49,
   "id": "b3fca49e",
   "metadata": {
    "pycharm": {
     "name": "#%%\n"
    }
   },
   "outputs": [
    {
     "name": "stdout",
     "output_type": "stream",
     "text": [
      "{'name': 'Lauren Castillo', 'quote': '\\n            \"Seamless motivating core\"\\n        ', 'email': 'jsnyder@williams.biz', 'phone': '(882)251-7579x893', 'address': '\\n                018 Michael Lodge Suite 061 \\n                Julianbury, UT 78466\\n            '}\n"
     ]
    }
   ],
   "source": [
    "print(get_people_web_scrap_data())"
   ]
  },
  {
   "cell_type": "code",
   "execution_count": 50,
   "id": "80f62a56",
   "metadata": {
    "pycharm": {
     "name": "#%%\n"
    }
   },
   "outputs": [
    {
     "data": {
      "text/html": [
       "<div><div id=9f3c8925-a183-45c0-bf42-998e7b1fdb16 style=\"display:none; background-color:#9D6CFF; color:white; width:200px; height:30px; padding-left:5px; border-radius:4px; flex-direction:row; justify-content:space-around; align-items:center;\" onmouseover=\"this.style.backgroundColor='#BA9BF8'\" onmouseout=\"this.style.backgroundColor='#9D6CFF'\" onclick=\"window.commands?.execute('create-mitosheet-from-dataframe-output');\">See Full Dataframe in Mito</div> <script> if (window.commands.hasCommand('create-mitosheet-from-dataframe-output')) document.getElementById('9f3c8925-a183-45c0-bf42-998e7b1fdb16').style.display = 'flex' </script> <table border=\"1\" class=\"dataframe\">\n",
       "  <thead>\n",
       "    <tr style=\"text-align: right;\">\n",
       "      <th></th>\n",
       "      <th>0</th>\n",
       "    </tr>\n",
       "  </thead>\n",
       "  <tbody>\n",
       "    <tr>\n",
       "      <th>0</th>\n",
       "      <td>&lt;function get_people_web_scrap_data at 0x7fa934dcbdc0&gt;</td>\n",
       "    </tr>\n",
       "    <tr>\n",
       "      <th>1</th>\n",
       "      <td>&lt;function get_people_web_scrap_data at 0x7fa934dcbdc0&gt;</td>\n",
       "    </tr>\n",
       "    <tr>\n",
       "      <th>2</th>\n",
       "      <td>&lt;function get_people_web_scrap_data at 0x7fa934dcbdc0&gt;</td>\n",
       "    </tr>\n",
       "    <tr>\n",
       "      <th>3</th>\n",
       "      <td>&lt;function get_people_web_scrap_data at 0x7fa934dcbdc0&gt;</td>\n",
       "    </tr>\n",
       "    <tr>\n",
       "      <th>4</th>\n",
       "      <td>&lt;function get_people_web_scrap_data at 0x7fa934dcbdc0&gt;</td>\n",
       "    </tr>\n",
       "    <tr>\n",
       "      <th>5</th>\n",
       "      <td>&lt;function get_people_web_scrap_data at 0x7fa934dcbdc0&gt;</td>\n",
       "    </tr>\n",
       "    <tr>\n",
       "      <th>6</th>\n",
       "      <td>&lt;function get_people_web_scrap_data at 0x7fa934dcbdc0&gt;</td>\n",
       "    </tr>\n",
       "    <tr>\n",
       "      <th>7</th>\n",
       "      <td>&lt;function get_people_web_scrap_data at 0x7fa934dcbdc0&gt;</td>\n",
       "    </tr>\n",
       "    <tr>\n",
       "      <th>8</th>\n",
       "      <td>&lt;function get_people_web_scrap_data at 0x7fa934dcbdc0&gt;</td>\n",
       "    </tr>\n",
       "    <tr>\n",
       "      <th>9</th>\n",
       "      <td>&lt;function get_people_web_scrap_data at 0x7fa934dcbdc0&gt;</td>\n",
       "    </tr>\n",
       "  </tbody>\n",
       "</table></div>"
      ],
      "text/plain": [
       "                                                   0\n",
       "0  <function get_people_web_scrap_data at 0x7fa93...\n",
       "1  <function get_people_web_scrap_data at 0x7fa93...\n",
       "2  <function get_people_web_scrap_data at 0x7fa93...\n",
       "3  <function get_people_web_scrap_data at 0x7fa93...\n",
       "4  <function get_people_web_scrap_data at 0x7fa93...\n",
       "5  <function get_people_web_scrap_data at 0x7fa93...\n",
       "6  <function get_people_web_scrap_data at 0x7fa93...\n",
       "7  <function get_people_web_scrap_data at 0x7fa93...\n",
       "8  <function get_people_web_scrap_data at 0x7fa93...\n",
       "9  <function get_people_web_scrap_data at 0x7fa93..."
      ]
     },
     "execution_count": 50,
     "metadata": {},
     "output_type": "execute_result"
    }
   ],
   "source": [
    "pd.DataFrame([get_people_web_scrap_data for pple in people])"
   ]
  },
  {
   "cell_type": "markdown",
   "id": "ad32b45e",
   "metadata": {},
   "source": [
    "## Revised Scrapping Function"
   ]
  },
  {
   "cell_type": "code",
   "execution_count": 54,
   "id": "2b03ea8e",
   "metadata": {},
   "outputs": [
    {
     "data": {
      "text/plain": [
       "<div class=\"person border rounded px-3 py-5 grid grid-cols-2 gap-x-3 bg-purple-50 hover:shadow-lg transition duration-500\">\n",
       "<h2 class=\"text-2xl text-purple-800 name col-span-full border-b\">Amber Schaefer</h2>\n",
       "<p class=\"quote col-span-full px-5 py-5 text-center text-gray-500\">\n",
       "            \"Pre-emptive multi-tasking knowledge user\"\n",
       "        </p>\n",
       "<div class=\"grid grid-cols-9\">\n",
       "<i class=\"bi bi-envelope-fill text-purple-800\"></i>\n",
       "<p class=\"email col-span-8\">wgomez@hernandez-nelson.com</p>\n",
       "<i class=\"bi bi-telephone-fill text-purple-800\"></i>\n",
       "<p class=\"phone col-span-8\">(726)925-2021</p>\n",
       "</div>\n",
       "<div class=\"address grid grid-cols-9\">\n",
       "<i class=\"bi bi-geo-fill text-purple-800\"></i>\n",
       "<p class=\"col-span-8\">\n",
       "                56977 Cruz Mountains Apt. 576 <br/>\n",
       "                Robinsonville, OH 04879\n",
       "            </p>\n",
       "</div>\n",
       "</div>"
      ]
     },
     "execution_count": 54,
     "metadata": {},
     "output_type": "execute_result"
    }
   ],
   "source": [
    "url = 'https://web-scraping-demo.zgulde.net/people'\n",
    "response = get(url)\n",
    "soup = BeautifulSoup(response.text, 'html.parser')\n",
    "people = soup.select('div.person')\n",
    "people[0]"
   ]
  },
  {
   "cell_type": "code",
   "execution_count": 43,
   "id": "487a8662",
   "metadata": {
    "pycharm": {
     "name": "#%%\n"
    }
   },
   "outputs": [],
   "source": [
    "def parse_person(person):\n",
    "    output = {}\n",
    "    output['name'] = person.find('h2').text\n",
    "    output['quote'] = person.select('.quote')[0].text.strip()\n",
    "    output['email'] = person.select_one('.email').text\n",
    "    output['phone'] = person.select_one('.phone').text\n",
    "    output['address'] = person.select_one('.address').text.strip()\n",
    "    return output"
   ]
  },
  {
   "cell_type": "code",
   "execution_count": 44,
   "id": "ff7e15d8",
   "metadata": {
    "pycharm": {
     "name": "#%%\n"
    }
   },
   "outputs": [
    {
     "data": {
      "text/html": [
       "<div><div id=544350d5-1e54-4b06-bbf9-6d66746e2934 style=\"display:none; background-color:#9D6CFF; color:white; width:200px; height:30px; padding-left:5px; border-radius:4px; flex-direction:row; justify-content:space-around; align-items:center;\" onmouseover=\"this.style.backgroundColor='#BA9BF8'\" onmouseout=\"this.style.backgroundColor='#9D6CFF'\" onclick=\"window.commands?.execute('create-mitosheet-from-dataframe-output');\">See Full Dataframe in Mito</div> <script> if (window.commands.hasCommand('create-mitosheet-from-dataframe-output')) document.getElementById('544350d5-1e54-4b06-bbf9-6d66746e2934').style.display = 'flex' </script> <table border=\"1\" class=\"dataframe\">\n",
       "  <thead>\n",
       "    <tr style=\"text-align: right;\">\n",
       "      <th></th>\n",
       "      <th>name</th>\n",
       "      <th>quote</th>\n",
       "      <th>email</th>\n",
       "      <th>phone</th>\n",
       "      <th>address</th>\n",
       "    </tr>\n",
       "  </thead>\n",
       "  <tbody>\n",
       "    <tr>\n",
       "      <th>0</th>\n",
       "      <td>Austin Li</td>\n",
       "      <td>\"Profit-focused grid-enabled capacity\"</td>\n",
       "      <td>philip89@george.info</td>\n",
       "      <td>(466)308-4286x4418</td>\n",
       "      <td>598 Bell Harbors Suite 420 \\n                Bennettview, SD 07054</td>\n",
       "    </tr>\n",
       "    <tr>\n",
       "      <th>1</th>\n",
       "      <td>Allison Sims</td>\n",
       "      <td>\"Organic executive circuit\"</td>\n",
       "      <td>calvin02@hotmail.com</td>\n",
       "      <td>327-229-6440</td>\n",
       "      <td>81380 Schwartz Viaduct Apt. 477 \\n                North Jeanshire, AL 86369</td>\n",
       "    </tr>\n",
       "    <tr>\n",
       "      <th>2</th>\n",
       "      <td>Jordan Gonzalez</td>\n",
       "      <td>\"Networked mission-critical circuit\"</td>\n",
       "      <td>gilbertmary@white.com</td>\n",
       "      <td>(992)189-8290x766</td>\n",
       "      <td>768 Coleman Road Suite 218 \\n                Jessicaburgh, HI 19760</td>\n",
       "    </tr>\n",
       "    <tr>\n",
       "      <th>3</th>\n",
       "      <td>Cody Montoya</td>\n",
       "      <td>\"Mandatory interactive budgetary management\"</td>\n",
       "      <td>christophernelson@gmail.com</td>\n",
       "      <td>(545)387-3140</td>\n",
       "      <td>1908 Matthew Village Suite 776 \\n                Lake Tony, WI 19137</td>\n",
       "    </tr>\n",
       "    <tr>\n",
       "      <th>4</th>\n",
       "      <td>Kevin Clark</td>\n",
       "      <td>\"Re-contextualized tangible throughput\"</td>\n",
       "      <td>agreene@santos.com</td>\n",
       "      <td>(802)993-0162x567</td>\n",
       "      <td>26513 Christopher Roads \\n                Port Michaelton, TX 81996</td>\n",
       "    </tr>\n",
       "    <tr>\n",
       "      <th>5</th>\n",
       "      <td>Amy Moore</td>\n",
       "      <td>\"Horizontal zero tolerance methodology\"</td>\n",
       "      <td>rtaylor@price.org</td>\n",
       "      <td>078-637-0659x9649</td>\n",
       "      <td>56350 Chapman Highway Apt. 079 \\n                East April, AZ 24854</td>\n",
       "    </tr>\n",
       "    <tr>\n",
       "      <th>6</th>\n",
       "      <td>Linda Miller</td>\n",
       "      <td>\"Open-source demand-driven access\"</td>\n",
       "      <td>cunninghammartin@west.info</td>\n",
       "      <td>412-636-0666x2585</td>\n",
       "      <td>485 Curtis Prairie \\n                East Carlos, OK 36015</td>\n",
       "    </tr>\n",
       "    <tr>\n",
       "      <th>7</th>\n",
       "      <td>Kayla Weiss</td>\n",
       "      <td>\"Grass-roots clear-thinking customer loyalty\"</td>\n",
       "      <td>janetstone@thompson.com</td>\n",
       "      <td>399.717.2989x5471</td>\n",
       "      <td>39582 Roth Village \\n                East Bethanyshire, ND 57047</td>\n",
       "    </tr>\n",
       "    <tr>\n",
       "      <th>8</th>\n",
       "      <td>Daniel Brooks</td>\n",
       "      <td>\"Horizontal 5thgeneration Graphical User Interface\"</td>\n",
       "      <td>antonio57@roberson-brown.com</td>\n",
       "      <td>268.296.5374x55950</td>\n",
       "      <td>25989 Marie Squares \\n                Rebeccaborough, TX 17381</td>\n",
       "    </tr>\n",
       "    <tr>\n",
       "      <th>9</th>\n",
       "      <td>Donna Thompson</td>\n",
       "      <td>\"Persevering interactive benchmark\"</td>\n",
       "      <td>alexanderrichard@shelton-scott.com</td>\n",
       "      <td>827-948-8875</td>\n",
       "      <td>7684 Thomas Unions Apt. 157 \\n                Suttonstad, OH 94078</td>\n",
       "    </tr>\n",
       "  </tbody>\n",
       "</table></div>"
      ],
      "text/plain": [
       "              name                                              quote  \\\n",
       "0        Austin Li             \"Profit-focused grid-enabled capacity\"   \n",
       "1     Allison Sims                        \"Organic executive circuit\"   \n",
       "2  Jordan Gonzalez               \"Networked mission-critical circuit\"   \n",
       "3     Cody Montoya       \"Mandatory interactive budgetary management\"   \n",
       "4      Kevin Clark            \"Re-contextualized tangible throughput\"   \n",
       "5        Amy Moore            \"Horizontal zero tolerance methodology\"   \n",
       "6     Linda Miller                 \"Open-source demand-driven access\"   \n",
       "7      Kayla Weiss      \"Grass-roots clear-thinking customer loyalty\"   \n",
       "8    Daniel Brooks  \"Horizontal 5thgeneration Graphical User Inter...   \n",
       "9   Donna Thompson                \"Persevering interactive benchmark\"   \n",
       "\n",
       "                                email               phone  \\\n",
       "0                philip89@george.info  (466)308-4286x4418   \n",
       "1                calvin02@hotmail.com        327-229-6440   \n",
       "2               gilbertmary@white.com   (992)189-8290x766   \n",
       "3         christophernelson@gmail.com       (545)387-3140   \n",
       "4                  agreene@santos.com   (802)993-0162x567   \n",
       "5                   rtaylor@price.org   078-637-0659x9649   \n",
       "6          cunninghammartin@west.info   412-636-0666x2585   \n",
       "7             janetstone@thompson.com   399.717.2989x5471   \n",
       "8        antonio57@roberson-brown.com  268.296.5374x55950   \n",
       "9  alexanderrichard@shelton-scott.com        827-948-8875   \n",
       "\n",
       "                                             address  \n",
       "0  598 Bell Harbors Suite 420 \\n                B...  \n",
       "1  81380 Schwartz Viaduct Apt. 477 \\n            ...  \n",
       "2  768 Coleman Road Suite 218 \\n                J...  \n",
       "3  1908 Matthew Village Suite 776 \\n             ...  \n",
       "4  26513 Christopher Roads \\n                Port...  \n",
       "5  56350 Chapman Highway Apt. 079 \\n             ...  \n",
       "6  485 Curtis Prairie \\n                East Carl...  \n",
       "7  39582 Roth Village \\n                East Beth...  \n",
       "8  25989 Marie Squares \\n                Rebeccab...  \n",
       "9  7684 Thomas Unions Apt. 157 \\n                ...  "
      ]
     },
     "execution_count": 44,
     "metadata": {},
     "output_type": "execute_result"
    }
   ],
   "source": [
    "pd.DataFrame([parse_person(person) for person in people])"
   ]
  },
  {
   "cell_type": "markdown",
   "id": "57884e3a",
   "metadata": {
    "pycharm": {
     "name": "#%%\n"
    }
   },
   "source": [
    "## Exercises"
   ]
  },
  {
   "cell_type": "markdown",
   "id": "79d6bdd8",
   "metadata": {
    "pycharm": {
     "name": "#%%\n"
    }
   },
   "source": [
    "#### Guide:\n",
    "By the end of this exercise, you should have a file named acquire.py that contains the specified functions. If you wish, you may break your work into separate files for each website (e.g. acquire_codeup_blog.py and acquire_news_articles.py), but the end function should be present in acquire.py (that is, acquire.py should import get_blog_articles from the acquire_codeup_blog module.)\n",
    "\n",
    "\n",
    "#### 1). Codeup Blog Articles\n",
    "\n",
    "Visit Codeup's Blog <link><a>https://codeup.com/blog/</a></link> and record the urls for at least 5 distinct blog posts. For each post, you should scrape at least the post's title and content.\n",
    "\n",
    "Encapsulate your work in a function named get_blog_articles that will return a list of dictionaries, with each dictionary representing one article. The shape of each dictionary should look like this:\n",
    "\n",
    "\n",
    "    {\n",
    "        'title': 'the title of the article',\n",
    "        'content': 'the full text content of the article'\n",
    "    }\n",
    "\n",
    "\n",
    "Plus any additional properties you think might be helpful.\n",
    "\n",
    "##### Bonus: Scrape the text of all the articles linked on codeup's blog page."
   ]
  },
  {
   "cell_type": "code",
   "execution_count": 14,
   "id": "83be8671",
   "metadata": {},
   "outputs": [
    {
     "data": {
      "text/plain": [
       "<Response [200]>"
      ]
     },
     "execution_count": 14,
     "metadata": {},
     "output_type": "execute_result"
    }
   ],
   "source": [
    "blog_url = 'https://codeup.com/blog/'\n",
    "headers = {'user-agent': 'Innis Data Science Cohort'}\n",
    "response = get(blog_url, headers=headers)\n",
    "soup = BeautifulSoup(response.text)\n",
    "response"
   ]
  },
  {
   "cell_type": "code",
   "execution_count": 21,
   "id": "6f4bd1da",
   "metadata": {},
   "outputs": [
    {
     "data": {
      "text/plain": [
       "<div class=\"et_pb_slide et_pb_bg_layout_dark et_pb_post_slide-18280\" style=\"background-image: url(https://199lj33nqk3p88xz03dvn481-wpengine.netdna-ssl.com/wp-content/uploads/2022/04/Blogs-17.png);\">\n",
       "<div class=\"et_pb_slide_overlay_container\"></div>\n",
       "<div class=\"et_pb_container clearfix\">\n",
       "<div class=\"et_pb_slider_container_inner\">\n",
       "<div class=\"et_pb_slide_description\">\n",
       "<h2 class=\"et_pb_slide_title\"><a href=\"https://codeup.com/workshops/from-bootcamp-to-bootcamp-a-military-appreciation-panel/\">From Bootcamp to Bootcamp | A Military Appreciation Panel</a></h2>\n",
       "<div class=\"et_pb_slide_content\">\n",
       "<div>In honor of Military Appreciation Month, join us for a discussion with Codeup Alumni who are also Military Veterans! We will chat about their experiences attending a coding bootcamp, and how their military training set them up for success here at Codeup. Grab your...</div> </div>\n",
       "<div class=\"et_pb_button_wrapper\"><a class=\"et_pb_button et_pb_more_button\" href=\"https://codeup.com/workshops/from-bootcamp-to-bootcamp-a-military-appreciation-panel/\">Read More</a></div> </div>\n",
       "</div>\n",
       "</div>\n",
       "</div>"
      ]
     },
     "execution_count": 21,
     "metadata": {},
     "output_type": "execute_result"
    }
   ],
   "source": [
    "blog = soup.select('div.et_pb_slide')\n",
    "blog[0]"
   ]
  },
  {
   "cell_type": "code",
   "execution_count": 30,
   "id": "98582ec8",
   "metadata": {
    "pycharm": {
     "name": "#%%\n"
    }
   },
   "outputs": [],
   "source": [
    "def get_blog_articles(et_pb_slide):\n",
    "    \n",
    "    output = {}\n",
    "    output['blog_title'] = et_pb_slide.find('h2').text\n",
    "    output['content'] = et_pb_slide.select('.et_pb_slide_content')[0].text.strip()\n",
    "#     output['other_articles'] = et_pb_slide.select('.et_pb_button')[0].text.strip()\n",
    "    return output"
   ]
  },
  {
   "cell_type": "code",
   "execution_count": 31,
   "id": "ded3c503",
   "metadata": {
    "pycharm": {
     "name": "#%%\n"
    }
   },
   "outputs": [
    {
     "data": {
      "text/html": [
       "<div><div id=791348b4-51f2-4506-a4e7-4c0c119f3cbb style=\"display:none; background-color:#9D6CFF; color:white; width:200px; height:30px; padding-left:5px; border-radius:4px; flex-direction:row; justify-content:space-around; align-items:center;\" onmouseover=\"this.style.backgroundColor='#BA9BF8'\" onmouseout=\"this.style.backgroundColor='#9D6CFF'\" onclick=\"window.commands?.execute('create-mitosheet-from-dataframe-output');\">See Full Dataframe in Mito</div> <script> if (window.commands.hasCommand('create-mitosheet-from-dataframe-output')) document.getElementById('791348b4-51f2-4506-a4e7-4c0c119f3cbb').style.display = 'flex' </script> <table border=\"1\" class=\"dataframe\">\n",
       "  <thead>\n",
       "    <tr style=\"text-align: right;\">\n",
       "      <th></th>\n",
       "      <th>blog_title</th>\n",
       "      <th>content</th>\n",
       "    </tr>\n",
       "  </thead>\n",
       "  <tbody>\n",
       "    <tr>\n",
       "      <th>0</th>\n",
       "      <td>From Bootcamp to Bootcamp | A Military Appreciation Panel</td>\n",
       "      <td>In honor of Military Appreciation Month, join us for a discussion with Codeup Alumni who are also Military Veterans! We will chat about their experiences attending a coding bootcamp, and how their military training set them up for success here at Codeup. Grab your...</td>\n",
       "    </tr>\n",
       "    <tr>\n",
       "      <th>1</th>\n",
       "      <td>Our Acquisition of the Rackspace Cloud Academy: One Year Later</td>\n",
       "      <td>Just about a year ago on April 16th, 2021 we announced our acquisition of the Rackspace Cloud Academy! For a short time after the acquisition, it was rebranded as the Codeup Cloud Academy and is now a full-time part of the Codeup brand. You can read our blog when we...</td>\n",
       "    </tr>\n",
       "    <tr>\n",
       "      <th>2</th>\n",
       "      <td>5 Books Every Woman In Tech Should Read</td>\n",
       "      <td>On this International Women's Day 2022 we wanted to tell stories about women in tech. What better way to do that than celebrate female authors! These women have written phenomenal books in the tech space to tell their stories. These are women who have walked the walk...</td>\n",
       "    </tr>\n",
       "    <tr>\n",
       "      <th>3</th>\n",
       "      <td>VET TEC Funding Now Available For Dallas Veterans</td>\n",
       "      <td>We are so happy to announce that VET TEC benefits are now available to be used at our campus located in Dallas, TX! Our next Dallas start date for our web development program is January 31st, 2022! You don't want to delay your application as this type of funding is...</td>\n",
       "    </tr>\n",
       "  </tbody>\n",
       "</table></div>"
      ],
      "text/plain": [
       "                                          blog_title  \\\n",
       "0  From Bootcamp to Bootcamp | A Military Appreci...   \n",
       "1  Our Acquisition of the Rackspace Cloud Academy...   \n",
       "2            5 Books Every Woman In Tech Should Read   \n",
       "3  VET TEC Funding Now Available For Dallas Veterans   \n",
       "\n",
       "                                             content  \n",
       "0  In honor of Military Appreciation Month, join ...  \n",
       "1  Just about a year ago on April 16th, 2021 we a...  \n",
       "2  On this International Women's Day 2022 we want...  \n",
       "3  We are so happy to announce that VET TEC benef...  "
      ]
     },
     "execution_count": 31,
     "metadata": {},
     "output_type": "execute_result"
    }
   ],
   "source": [
    "pd.DataFrame([get_blog_articles(et_pb_image_container) for et_pb_image_container in blog])"
   ]
  },
  {
   "cell_type": "markdown",
   "id": "a08dacf2",
   "metadata": {
    "pycharm": {
     "name": "#%%\n"
    }
   },
   "source": [
    "#### 2). News Articles\n",
    "\n",
    "We will now be scraping text data from <a>https://inshorts.com/</a>, a website that provides a brief overview of many different topics.\n",
    "\n",
    "Write a function that scrapes the news articles for the following topics:\n",
    "\n",
    "- Business\n",
    "- Sports\n",
    "- Technology\n",
    "- Entertainment\n",
    "\n",
    "The end product of this should be a function named get_news_articles that returns a list of dictionaries, where each dictionary has this shape:\n",
    "\n",
    "\n",
    "{\n",
    "    'title': 'The article title',\n",
    "    'content': 'The article content',\n",
    "    'category': 'business' # for example\n",
    "}\n",
    "\n",
    "Hints:\n",
    "\n",
    "    (a). Start by inspecting the website in your browser. Figure out which elements will be useful.\n",
    "    (b). Start by creating a function that handles a single article and produces a dictionary like the one above.\n",
    "    (c). Next create a function that will find all the articles on a single page and call the function you created in the last step for every article on the page.\n",
    "    (d). Now create a function that will use the previous two functions to scrape the articles from all the pages that you need, and do any additional processing that needs to be done."
   ]
  },
  {
   "cell_type": "code",
   "execution_count": null,
   "id": "a724cc27",
   "metadata": {
    "pycharm": {
     "name": "#%%\n"
    }
   },
   "outputs": [],
   "source": []
  },
  {
   "cell_type": "code",
   "execution_count": null,
   "id": "85130f27",
   "metadata": {},
   "outputs": [],
   "source": []
  },
  {
   "cell_type": "code",
   "execution_count": null,
   "id": "18305e46",
   "metadata": {},
   "outputs": [],
   "source": []
  },
  {
   "cell_type": "code",
   "execution_count": null,
   "id": "f0fd4974",
   "metadata": {},
   "outputs": [],
   "source": []
  },
  {
   "cell_type": "code",
   "execution_count": null,
   "id": "b0e05cf1",
   "metadata": {},
   "outputs": [],
   "source": []
  },
  {
   "cell_type": "markdown",
   "id": "bc400988",
   "metadata": {},
   "source": [
    "#### (3). Bonus: cache the data\n",
    "\n",
    "Write your code such that the acquired data is saved locally in some form or fashion. Your functions that retrieve the data should prefer to read the local data instead of having to make all the requests everytime the function is called. Include a boolean flag in the functions to allow the data to be acquired \"fresh\" from the actual sources (re-writing your local cache)."
   ]
  },
  {
   "cell_type": "code",
   "execution_count": null,
   "id": "0ec9c2f1",
   "metadata": {},
   "outputs": [],
   "source": []
  },
  {
   "cell_type": "code",
   "execution_count": null,
   "id": "3258f6bd",
   "metadata": {},
   "outputs": [],
   "source": []
  },
  {
   "cell_type": "code",
   "execution_count": null,
   "id": "9b76c59d",
   "metadata": {},
   "outputs": [],
   "source": []
  },
  {
   "cell_type": "code",
   "execution_count": null,
   "id": "3e314c8a",
   "metadata": {},
   "outputs": [],
   "source": []
  },
  {
   "cell_type": "code",
   "execution_count": null,
   "id": "b0ff1810",
   "metadata": {},
   "outputs": [],
   "source": []
  },
  {
   "cell_type": "code",
   "execution_count": null,
   "id": "145f1110",
   "metadata": {},
   "outputs": [],
   "source": []
  }
 ],
 "metadata": {
  "kernelspec": {
   "display_name": "Python 3 (ipykernel)",
   "language": "python",
   "name": "python3"
  },
  "language_info": {
   "codemirror_mode": {
    "name": "ipython",
    "version": 3
   },
   "file_extension": ".py",
   "mimetype": "text/x-python",
   "name": "python",
   "nbconvert_exporter": "python",
   "pygments_lexer": "ipython3",
   "version": "3.9.7"
  }
 },
 "nbformat": 4,
 "nbformat_minor": 5
}
