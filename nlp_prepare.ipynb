{
 "cells": [
  {
   "cell_type": "markdown",
   "id": "2b70dcd8",
   "metadata": {},
   "source": [
    "# Natural Language Processing \n",
    "\n",
    "## Prepare Module\n",
    "\n",
    "#### Key Words:\n",
    "- __Requests__ to fetch the HTML files\n",
    "- __BeautifulSoup__ to pull the data from HTML files\n",
    "- __lxml__ to parse (or translate) the HTML to Python\n",
    "- __Pandas__ to manipulate our data, printing it and saving it into a file\n",
    "- __nltk__ natural language tool kit"
   ]
  },
  {
   "cell_type": "code",
   "execution_count": 1,
   "id": "097a7083",
   "metadata": {},
   "outputs": [],
   "source": [
    "# Import functions\n",
    "import requests\n",
    "from bs4 import BeautifulSoup\n",
    "\n",
    "from acquire import get_people_web_scrap_data, get_blog_article_urls,\\\n",
    "parse_blog_article, get_blog_articles, parse_news_card, \\\n",
    "parse_news_category, get_news_articles\n",
    "\n",
    "from prepare import basic_clean, tokenize, stem, lemmatize, \\\n",
    "remove_stopwords, prepare_dataframe\n",
    "\n",
    "import json\n",
    "import unicodedata\n",
    "import re\n",
    "import os\n",
    "# nltk: natural language toolkit -> tokenization, stopwords (more on this soon)\n",
    "import nltk\n",
    "from nltk.tokenize.toktok import ToktokTokenizer\n",
    "from nltk.corpus import stopwords\n",
    "\n",
    "import warnings\n",
    "warnings.filterwarnings('ignore')"
   ]
  },
  {
   "cell_type": "markdown",
   "id": "f571b54f",
   "metadata": {},
   "source": [
    "### News DataFrame"
   ]
  },
  {
   "cell_type": "code",
   "execution_count": 2,
   "id": "ca888363",
   "metadata": {},
   "outputs": [
    {
     "data": {
      "text/html": [
       "<div><div id=a8cffe1b-d8e0-4a36-8624-522cec516d51 style=\"display:none; background-color:#9D6CFF; color:white; width:200px; height:30px; padding-left:5px; border-radius:4px; flex-direction:row; justify-content:space-around; align-items:center;\" onmouseover=\"this.style.backgroundColor='#BA9BF8'\" onmouseout=\"this.style.backgroundColor='#9D6CFF'\" onclick=\"window.commands?.execute('create-mitosheet-from-dataframe-output');\">See Full Dataframe in Mito</div> <script> if (window.commands.hasCommand('create-mitosheet-from-dataframe-output')) document.getElementById('a8cffe1b-d8e0-4a36-8624-522cec516d51').style.display = 'flex' </script> <table border=\"1\" class=\"dataframe\">\n",
       "  <thead>\n",
       "    <tr style=\"text-align: right;\">\n",
       "      <th></th>\n",
       "      <th>category</th>\n",
       "      <th>title</th>\n",
       "      <th>content</th>\n",
       "      <th>author</th>\n",
       "      <th>published</th>\n",
       "    </tr>\n",
       "  </thead>\n",
       "  <tbody>\n",
       "    <tr>\n",
       "      <th>0</th>\n",
       "      <td>business</td>\n",
       "      <td>Rupee hits all-time low of 77.42 against US dollar</td>\n",
       "      <td>The Indian rupee fell to an all-time low of 77.42 against the US dollar on Monday, Reuters reported. Asian markets were lower on Monday as US stock futures fell on fears of more policy tightening from the Federal Reserve and strict lockdown in Shanghai impacting global growth, according to Reuters.</td>\n",
       "      <td>Apaar Sharma</td>\n",
       "      <td>2022-05-09T05:05:31.000Z</td>\n",
       "    </tr>\n",
       "    <tr>\n",
       "      <th>1</th>\n",
       "      <td>business</td>\n",
       "      <td>Bitcoin falls to the lowest level since January, trades below $34,000</td>\n",
       "      <td>Bitcoin fell on Monday to as low as $33,266 in morning trade, nearing January's low of $32,951 as slumping equity markets continued to hurt cryptocurrencies. It then steadied to trade above $33,600. According to BBC, the world's largest cryptocurrency has fallen by 50% since its peak in November 2021.</td>\n",
       "      <td>Pragya Swastik</td>\n",
       "      <td>2022-05-09T09:20:34.000Z</td>\n",
       "    </tr>\n",
       "    <tr>\n",
       "      <th>2</th>\n",
       "      <td>business</td>\n",
       "      <td>Made best possible decision: IndiGo on barring differently-abled child from flight</td>\n",
       "      <td>IndiGo's CEO Ronojoy Dutta said the airline made \"the best possible decision\" by barring a differently-abled teenager and his family from boarding a Ranchi-Hyderabad flight. \"At boarding area, the teenager was visibly in panic...the airport staff, in line with safety guidelines, were forced to make a difficult decision,\" Dutta said. IndiGo offered to purchase an electric wheelchair for the child.</td>\n",
       "      <td>Pragya Swastik</td>\n",
       "      <td>2022-05-09T09:50:34.000Z</td>\n",
       "    </tr>\n",
       "  </tbody>\n",
       "</table></div>"
      ],
      "text/plain": [
       "   category                                              title  \\\n",
       "0  business  Rupee hits all-time low of 77.42 against US do...   \n",
       "1  business  Bitcoin falls to the lowest level since Januar...   \n",
       "2  business  Made best possible decision: IndiGo on barring...   \n",
       "\n",
       "                                             content          author  \\\n",
       "0  The Indian rupee fell to an all-time low of 77...    Apaar Sharma   \n",
       "1  Bitcoin fell on Monday to as low as $33,266 in...  Pragya Swastik   \n",
       "2  IndiGo's CEO Ronojoy Dutta said the airline ma...  Pragya Swastik   \n",
       "\n",
       "                  published  \n",
       "0  2022-05-09T05:05:31.000Z  \n",
       "1  2022-05-09T09:20:34.000Z  \n",
       "2  2022-05-09T09:50:34.000Z  "
      ]
     },
     "execution_count": 2,
     "metadata": {},
     "output_type": "execute_result"
    }
   ],
   "source": [
    "# Acquire news df\n",
    "\n",
    "news_df = get_news_articles()\n",
    "news_df.head(3)"
   ]
  },
  {
   "cell_type": "code",
   "execution_count": 3,
   "id": "20b1a8b5",
   "metadata": {},
   "outputs": [
    {
     "data": {
      "text/plain": [
       "0     The Indian rupee fell to an all-time low of 77...\n",
       "1     Bitcoin fell on Monday to as low as $33,266 in...\n",
       "2     IndiGo's CEO Ronojoy Dutta said the airline ma...\n",
       "3     The Indian rupee weakened further on Monday to...\n",
       "4     LIC's IPO, India's biggest IPO which opened on...\n",
       "                            ...                        \n",
       "94    Actor Kunal Kemmu has reacted to Saif Ali Khan...\n",
       "95    During a speech at an event, actor Mahesh Babu...\n",
       "96    Television actress Mahi Vij in an interview ha...\n",
       "97    Actress-choreographer Mohena Kumari Singh took...\n",
       "98    Yash starrer-'KGF: Chapter 2' had its screenin...\n",
       "Name: content, Length: 99, dtype: object"
      ]
     },
     "execution_count": 3,
     "metadata": {},
     "output_type": "execute_result"
    }
   ],
   "source": [
    "news_df.content"
   ]
  },
  {
   "cell_type": "markdown",
   "id": "95fd8a62",
   "metadata": {},
   "source": [
    "#### Rename content to original"
   ]
  },
  {
   "cell_type": "code",
   "execution_count": 13,
   "id": "f761c6a4",
   "metadata": {},
   "outputs": [],
   "source": [
    "news_df.rename(columns={'content': 'original'}, inplace=True)"
   ]
  },
  {
   "cell_type": "code",
   "execution_count": 5,
   "id": "c523c7a1",
   "metadata": {},
   "outputs": [
    {
     "data": {
      "text/html": [
       "<div><div id=4c9fec7c-a7be-4c62-8ad5-0062b49c5d67 style=\"display:none; background-color:#9D6CFF; color:white; width:200px; height:30px; padding-left:5px; border-radius:4px; flex-direction:row; justify-content:space-around; align-items:center;\" onmouseover=\"this.style.backgroundColor='#BA9BF8'\" onmouseout=\"this.style.backgroundColor='#9D6CFF'\" onclick=\"window.commands?.execute('create-mitosheet-from-dataframe-output');\">See Full Dataframe in Mito</div> <script> if (window.commands.hasCommand('create-mitosheet-from-dataframe-output')) document.getElementById('4c9fec7c-a7be-4c62-8ad5-0062b49c5d67').style.display = 'flex' </script> <table border=\"1\" class=\"dataframe\">\n",
       "  <thead>\n",
       "    <tr style=\"text-align: right;\">\n",
       "      <th></th>\n",
       "      <th>category</th>\n",
       "      <th>title</th>\n",
       "      <th>original</th>\n",
       "      <th>author</th>\n",
       "      <th>published</th>\n",
       "    </tr>\n",
       "  </thead>\n",
       "  <tbody>\n",
       "    <tr>\n",
       "      <th>0</th>\n",
       "      <td>business</td>\n",
       "      <td>Rupee hits all-time low of 77.42 against US dollar</td>\n",
       "      <td>The Indian rupee fell to an all-time low of 77.42 against the US dollar on Monday, Reuters reported. Asian markets were lower on Monday as US stock futures fell on fears of more policy tightening from the Federal Reserve and strict lockdown in Shanghai impacting global growth, according to Reuters.</td>\n",
       "      <td>Apaar Sharma</td>\n",
       "      <td>2022-05-09T05:05:31.000Z</td>\n",
       "    </tr>\n",
       "    <tr>\n",
       "      <th>1</th>\n",
       "      <td>business</td>\n",
       "      <td>Bitcoin falls to the lowest level since January, trades below $34,000</td>\n",
       "      <td>Bitcoin fell on Monday to as low as $33,266 in morning trade, nearing January's low of $32,951 as slumping equity markets continued to hurt cryptocurrencies. It then steadied to trade above $33,600. According to BBC, the world's largest cryptocurrency has fallen by 50% since its peak in November 2021.</td>\n",
       "      <td>Pragya Swastik</td>\n",
       "      <td>2022-05-09T09:20:34.000Z</td>\n",
       "    </tr>\n",
       "  </tbody>\n",
       "</table></div>"
      ],
      "text/plain": [
       "   category                                              title  \\\n",
       "0  business  Rupee hits all-time low of 77.42 against US do...   \n",
       "1  business  Bitcoin falls to the lowest level since Januar...   \n",
       "\n",
       "                                            original          author  \\\n",
       "0  The Indian rupee fell to an all-time low of 77...    Apaar Sharma   \n",
       "1  Bitcoin fell on Monday to as low as $33,266 in...  Pragya Swastik   \n",
       "\n",
       "                  published  \n",
       "0  2022-05-09T05:05:31.000Z  \n",
       "1  2022-05-09T09:20:34.000Z  "
      ]
     },
     "execution_count": 5,
     "metadata": {},
     "output_type": "execute_result"
    }
   ],
   "source": [
    "news_df.head(2)                                  "
   ]
  },
  {
   "cell_type": "code",
   "execution_count": 6,
   "id": "673db163",
   "metadata": {},
   "outputs": [
    {
     "data": {
      "text/html": [
       "<div><div id=c2df5362-a226-416f-bc0c-e6d68a871725 style=\"display:none; background-color:#9D6CFF; color:white; width:200px; height:30px; padding-left:5px; border-radius:4px; flex-direction:row; justify-content:space-around; align-items:center;\" onmouseover=\"this.style.backgroundColor='#BA9BF8'\" onmouseout=\"this.style.backgroundColor='#9D6CFF'\" onclick=\"window.commands?.execute('create-mitosheet-from-dataframe-output');\">See Full Dataframe in Mito</div> <script> if (window.commands.hasCommand('create-mitosheet-from-dataframe-output')) document.getElementById('c2df5362-a226-416f-bc0c-e6d68a871725').style.display = 'flex' </script> <table border=\"1\" class=\"dataframe\">\n",
       "  <thead>\n",
       "    <tr style=\"text-align: right;\">\n",
       "      <th></th>\n",
       "      <th>title</th>\n",
       "      <th>original</th>\n",
       "      <th>clean</th>\n",
       "      <th>stemmed</th>\n",
       "      <th>lemmatized</th>\n",
       "    </tr>\n",
       "  </thead>\n",
       "  <tbody>\n",
       "    <tr>\n",
       "      <th>0</th>\n",
       "      <td>Rupee hits all-time low of 77.42 against US dollar</td>\n",
       "      <td>The Indian rupee fell to an all-time low of 77.42 against the US dollar on Monday, Reuters reported. Asian markets were lower on Monday as US stock futures fell on fears of more policy tightening from the Federal Reserve and strict lockdown in Shanghai impacting global growth, according to Reuters.</td>\n",
       "      <td>indian rupee fell alltime low 7742 us dollar monday reuters reported asian markets lower monday us stock futures fell fears policy tightening federal reserve strict lockdown shanghai impacting global growth according reuters</td>\n",
       "      <td>indian rupe fell alltim low 7742 us dollar monday reuter report asian market lower monday us stock futur fell fear polici tighten feder reserv strict lockdown shanghai impact global growth accord reuter</td>\n",
       "      <td>indian rupee fell alltime low 7742 u dollar monday reuters reported asian market lower monday u stock future fell fear policy tightening federal reserve strict lockdown shanghai impacting global growth according reuters</td>\n",
       "    </tr>\n",
       "    <tr>\n",
       "      <th>1</th>\n",
       "      <td>Bitcoin falls to the lowest level since January, trades below $34,000</td>\n",
       "      <td>Bitcoin fell on Monday to as low as $33,266 in morning trade, nearing January's low of $32,951 as slumping equity markets continued to hurt cryptocurrencies. It then steadied to trade above $33,600. According to BBC, the world's largest cryptocurrency has fallen by 50% since its peak in November 2021.</td>\n",
       "      <td>bitcoin fell monday low 33266 morning trade nearing january ' low 32951 slumping equity markets continued hurt cryptocurrencies steadied trade 33600 according bbc world ' largest cryptocurrency fallen 50 since peak november 2021</td>\n",
       "      <td>bitcoin fell monday low 33266 morn trade near januari ' low 32951 slump equiti market continu hurt cryptocurr steadi trade 33600 accord bbc world ' largest cryptocurr fallen 50 sinc peak novemb 2021</td>\n",
       "      <td>bitcoin fell monday low 33266 morning trade nearing january ' low 32951 slumping equity market continued hurt cryptocurrencies steadied trade 33600 according bbc world ' largest cryptocurrency fallen 50 since peak november 2021</td>\n",
       "    </tr>\n",
       "    <tr>\n",
       "      <th>2</th>\n",
       "      <td>Made best possible decision: IndiGo on barring differently-abled child from flight</td>\n",
       "      <td>IndiGo's CEO Ronojoy Dutta said the airline made \"the best possible decision\" by barring a differently-abled teenager and his family from boarding a Ranchi-Hyderabad flight. \"At boarding area, the teenager was visibly in panic...the airport staff, in line with safety guidelines, were forced to make a difficult decision,\" Dutta said. IndiGo offered to purchase an electric wheelchair for the child.</td>\n",
       "      <td>indigo ' ceo ronojoy dutta said airline made best possible decision barring differentlyabled teenager family boarding ranchihyderabad flight boarding area teenager visibly panicthe airport staff line safety guidelines forced make difficult decision dutta said indigo offered purchase electric wheelchair child</td>\n",
       "      <td>indigo ' ceo ronojoy dutta said airlin made best possibl decis bar differently teenag famili board ranchihyderabad flight board area teenag visibl panicth airport staff line safeti guidelin forc make difficult decis dutta said indigo offer purchas electr wheelchair child</td>\n",
       "      <td>indigo ' ceo ronojoy dutta said airline made best possible decision barring differentlyabled teenager family boarding ranchihyderabad flight boarding area teenager visibly panicthe airport staff line safety guideline forced make difficult decision dutta said indigo offered purchase electric wheelchair child</td>\n",
       "    </tr>\n",
       "  </tbody>\n",
       "</table></div>"
      ],
      "text/plain": [
       "                                               title  \\\n",
       "0  Rupee hits all-time low of 77.42 against US do...   \n",
       "1  Bitcoin falls to the lowest level since Januar...   \n",
       "2  Made best possible decision: IndiGo on barring...   \n",
       "\n",
       "                                            original  \\\n",
       "0  The Indian rupee fell to an all-time low of 77...   \n",
       "1  Bitcoin fell on Monday to as low as $33,266 in...   \n",
       "2  IndiGo's CEO Ronojoy Dutta said the airline ma...   \n",
       "\n",
       "                                               clean  \\\n",
       "0  indian rupee fell alltime low 7742 us dollar m...   \n",
       "1  bitcoin fell monday low 33266 morning trade ne...   \n",
       "2  indigo ' ceo ronojoy dutta said airline made b...   \n",
       "\n",
       "                                             stemmed  \\\n",
       "0  indian rupe fell alltim low 7742 us dollar mon...   \n",
       "1  bitcoin fell monday low 33266 morn trade near ...   \n",
       "2  indigo ' ceo ronojoy dutta said airlin made be...   \n",
       "\n",
       "                                          lemmatized  \n",
       "0  indian rupee fell alltime low 7742 u dollar mo...  \n",
       "1  bitcoin fell monday low 33266 morning trade ne...  \n",
       "2  indigo ' ceo ronojoy dutta said airline made b...  "
      ]
     },
     "execution_count": 6,
     "metadata": {},
     "output_type": "execute_result"
    }
   ],
   "source": [
    "prepare_dataframe(news_df, 'original', extra_words = ['ha'], exclude_words = ['no']).head(3)"
   ]
  },
  {
   "cell_type": "markdown",
   "id": "cd0944e3",
   "metadata": {},
   "source": [
    "### CodeUp Blog DataFrame"
   ]
  },
  {
   "cell_type": "markdown",
   "id": "2744ca14",
   "metadata": {},
   "source": [
    "#### Get Blog Data"
   ]
  },
  {
   "cell_type": "code",
   "execution_count": 12,
   "id": "b68e70bd",
   "metadata": {},
   "outputs": [
    {
     "data": {
      "text/html": [
       "<div><div id=6fd0a975-9386-4823-9c8b-26187b0fb399 style=\"display:none; background-color:#9D6CFF; color:white; width:200px; height:30px; padding-left:5px; border-radius:4px; flex-direction:row; justify-content:space-around; align-items:center;\" onmouseover=\"this.style.backgroundColor='#BA9BF8'\" onmouseout=\"this.style.backgroundColor='#9D6CFF'\" onclick=\"window.commands?.execute('create-mitosheet-from-dataframe-output');\">See Full Dataframe in Mito</div> <script> if (window.commands.hasCommand('create-mitosheet-from-dataframe-output')) document.getElementById('6fd0a975-9386-4823-9c8b-26187b0fb399').style.display = 'flex' </script> <table border=\"1\" class=\"dataframe\">\n",
       "  <thead>\n",
       "    <tr style=\"text-align: right;\">\n",
       "      <th></th>\n",
       "      <th>title</th>\n",
       "      <th>published</th>\n",
       "      <th>content</th>\n",
       "    </tr>\n",
       "  </thead>\n",
       "  <tbody>\n",
       "    <tr>\n",
       "      <th>0</th>\n",
       "      <td>NaN</td>\n",
       "      <td>NaN</td>\n",
       "      <td>NaN</td>\n",
       "    </tr>\n",
       "    <tr>\n",
       "      <th>1</th>\n",
       "      <td>NaN</td>\n",
       "      <td>NaN</td>\n",
       "      <td>NaN</td>\n",
       "    </tr>\n",
       "    <tr>\n",
       "      <th>2</th>\n",
       "      <td>NaN</td>\n",
       "      <td>NaN</td>\n",
       "      <td>NaN</td>\n",
       "    </tr>\n",
       "    <tr>\n",
       "      <th>3</th>\n",
       "      <td>NaN</td>\n",
       "      <td>NaN</td>\n",
       "      <td>NaN</td>\n",
       "    </tr>\n",
       "    <tr>\n",
       "      <th>4</th>\n",
       "      <td>NaN</td>\n",
       "      <td>NaN</td>\n",
       "      <td>NaN</td>\n",
       "    </tr>\n",
       "  </tbody>\n",
       "</table></div>"
      ],
      "text/plain": [
       "   title  published  content\n",
       "0    NaN        NaN      NaN\n",
       "1    NaN        NaN      NaN\n",
       "2    NaN        NaN      NaN\n",
       "3    NaN        NaN      NaN\n",
       "4    NaN        NaN      NaN"
      ]
     },
     "execution_count": 12,
     "metadata": {},
     "output_type": "execute_result"
    }
   ],
   "source": [
    "# Acquire news df\n",
    "\n",
    "codeup_df = get_blog_articles()\n",
    "codeup_df.head()"
   ]
  },
  {
   "cell_type": "code",
   "execution_count": 16,
   "id": "0cec0220",
   "metadata": {},
   "outputs": [
    {
     "data": {
      "text/html": [
       "<div><div id=27d8c3c8-79b4-47f1-a5a5-576823290934 style=\"display:none; background-color:#9D6CFF; color:white; width:200px; height:30px; padding-left:5px; border-radius:4px; flex-direction:row; justify-content:space-around; align-items:center;\" onmouseover=\"this.style.backgroundColor='#BA9BF8'\" onmouseout=\"this.style.backgroundColor='#9D6CFF'\" onclick=\"window.commands?.execute('create-mitosheet-from-dataframe-output');\">See Full Dataframe in Mito</div> <script> if (window.commands.hasCommand('create-mitosheet-from-dataframe-output')) document.getElementById('27d8c3c8-79b4-47f1-a5a5-576823290934').style.display = 'flex' </script> <table border=\"1\" class=\"dataframe\">\n",
       "  <thead>\n",
       "    <tr style=\"text-align: right;\">\n",
       "      <th></th>\n",
       "      <th>title</th>\n",
       "      <th>published</th>\n",
       "      <th>original</th>\n",
       "    </tr>\n",
       "  </thead>\n",
       "  <tbody>\n",
       "    <tr>\n",
       "      <th>0</th>\n",
       "      <td>NaN</td>\n",
       "      <td>NaN</td>\n",
       "      <td>NaN</td>\n",
       "    </tr>\n",
       "    <tr>\n",
       "      <th>1</th>\n",
       "      <td>NaN</td>\n",
       "      <td>NaN</td>\n",
       "      <td>NaN</td>\n",
       "    </tr>\n",
       "    <tr>\n",
       "      <th>2</th>\n",
       "      <td>NaN</td>\n",
       "      <td>NaN</td>\n",
       "      <td>NaN</td>\n",
       "    </tr>\n",
       "    <tr>\n",
       "      <th>3</th>\n",
       "      <td>NaN</td>\n",
       "      <td>NaN</td>\n",
       "      <td>NaN</td>\n",
       "    </tr>\n",
       "    <tr>\n",
       "      <th>4</th>\n",
       "      <td>NaN</td>\n",
       "      <td>NaN</td>\n",
       "      <td>NaN</td>\n",
       "    </tr>\n",
       "    <tr>\n",
       "      <th>...</th>\n",
       "      <td>...</td>\n",
       "      <td>...</td>\n",
       "      <td>...</td>\n",
       "    </tr>\n",
       "    <tr>\n",
       "      <th>10</th>\n",
       "      <td>NaN</td>\n",
       "      <td>NaN</td>\n",
       "      <td>NaN</td>\n",
       "    </tr>\n",
       "    <tr>\n",
       "      <th>11</th>\n",
       "      <td>NaN</td>\n",
       "      <td>NaN</td>\n",
       "      <td>NaN</td>\n",
       "    </tr>\n",
       "    <tr>\n",
       "      <th>12</th>\n",
       "      <td>NaN</td>\n",
       "      <td>NaN</td>\n",
       "      <td>NaN</td>\n",
       "    </tr>\n",
       "    <tr>\n",
       "      <th>13</th>\n",
       "      <td>NaN</td>\n",
       "      <td>NaN</td>\n",
       "      <td>NaN</td>\n",
       "    </tr>\n",
       "    <tr>\n",
       "      <th>14</th>\n",
       "      <td>NaN</td>\n",
       "      <td>NaN</td>\n",
       "      <td>NaN</td>\n",
       "    </tr>\n",
       "  </tbody>\n",
       "</table></div>"
      ],
      "text/plain": [
       "    title  published  original\n",
       "0     NaN        NaN       NaN\n",
       "1     NaN        NaN       NaN\n",
       "2     NaN        NaN       NaN\n",
       "3     NaN        NaN       NaN\n",
       "4     NaN        NaN       NaN\n",
       "5     NaN        NaN       NaN\n",
       "6     NaN        NaN       NaN\n",
       "7     NaN        NaN       NaN\n",
       "8     NaN        NaN       NaN\n",
       "9     NaN        NaN       NaN\n",
       "10    NaN        NaN       NaN\n",
       "11    NaN        NaN       NaN\n",
       "12    NaN        NaN       NaN\n",
       "13    NaN        NaN       NaN\n",
       "14    NaN        NaN       NaN"
      ]
     },
     "execution_count": 16,
     "metadata": {},
     "output_type": "execute_result"
    }
   ],
   "source": [
    "codeup_df.rename(columns={'content': 'original'}, inplace=True)\n",
    "codeup_df"
   ]
  },
  {
   "cell_type": "code",
   "execution_count": null,
   "id": "58c07626",
   "metadata": {},
   "outputs": [],
   "source": []
  },
  {
   "cell_type": "markdown",
   "id": "ea618ebf",
   "metadata": {},
   "source": [
    "#### Prepare CodeUp Data"
   ]
  },
  {
   "cell_type": "code",
   "execution_count": 17,
   "id": "50cdf778",
   "metadata": {},
   "outputs": [
    {
     "ename": "TypeError",
     "evalue": "expected string or bytes-like object",
     "output_type": "error",
     "traceback": [
      "\u001b[0;31m---------------------------------------------------------------------------\u001b[0m",
      "\u001b[0;31mTypeError\u001b[0m                                 Traceback (most recent call last)",
      "\u001b[0;32m/var/folders/b2/3fdswr7x4v5fhdt54wpcfmdw0000gn/T/ipykernel_5274/2439097370.py\u001b[0m in \u001b[0;36m<module>\u001b[0;34m\u001b[0m\n\u001b[0;32m----> 1\u001b[0;31m \u001b[0mprepare_dataframe\u001b[0m\u001b[0;34m(\u001b[0m\u001b[0mcodeup_df\u001b[0m\u001b[0;34m,\u001b[0m \u001b[0;34m'original'\u001b[0m\u001b[0;34m,\u001b[0m \u001b[0mextra_words\u001b[0m \u001b[0;34m=\u001b[0m \u001b[0;34m[\u001b[0m\u001b[0;34m'ha'\u001b[0m\u001b[0;34m]\u001b[0m\u001b[0;34m,\u001b[0m \u001b[0mexclude_words\u001b[0m \u001b[0;34m=\u001b[0m \u001b[0;34m[\u001b[0m\u001b[0;34m'no'\u001b[0m\u001b[0;34m]\u001b[0m\u001b[0;34m)\u001b[0m\u001b[0;34m.\u001b[0m\u001b[0mhead\u001b[0m\u001b[0;34m(\u001b[0m\u001b[0;34m)\u001b[0m\u001b[0;34m\u001b[0m\u001b[0;34m\u001b[0m\u001b[0m\n\u001b[0m",
      "\u001b[0;32m~/Documents/codeup-data-science/natural-language-processing-exercises/prepare.py\u001b[0m in \u001b[0;36mprepare_dataframe\u001b[0;34m(df, column, extra_words, exclude_words)\u001b[0m\n\u001b[1;32m    126\u001b[0m     \u001b[0;34m-\u001b[0m \u001b[0mremoving\u001b[0m \u001b[0menglish\u001b[0m \u001b[0mstop\u001b[0m \u001b[0mwords\u001b[0m\u001b[0;34m\u001b[0m\u001b[0;34m\u001b[0m\u001b[0m\n\u001b[1;32m    127\u001b[0m     '''\n\u001b[0;32m--> 128\u001b[0;31m     \u001b[0mdf\u001b[0m\u001b[0;34m[\u001b[0m\u001b[0;34m'clean'\u001b[0m\u001b[0;34m]\u001b[0m \u001b[0;34m=\u001b[0m \u001b[0mdf\u001b[0m\u001b[0;34m[\u001b[0m\u001b[0mcolumn\u001b[0m\u001b[0;34m]\u001b[0m\u001b[0;34m.\u001b[0m\u001b[0mapply\u001b[0m\u001b[0;34m(\u001b[0m\u001b[0mbasic_clean\u001b[0m\u001b[0;34m)\u001b[0m\u001b[0;31m\\\u001b[0m\u001b[0;34m\u001b[0m\u001b[0;34m\u001b[0m\u001b[0m\n\u001b[0m\u001b[1;32m    129\u001b[0m                             \u001b[0;34m.\u001b[0m\u001b[0mapply\u001b[0m\u001b[0;34m(\u001b[0m\u001b[0mtokenize\u001b[0m\u001b[0;34m)\u001b[0m\u001b[0;31m\\\u001b[0m\u001b[0;34m\u001b[0m\u001b[0;34m\u001b[0m\u001b[0m\n\u001b[1;32m    130\u001b[0m                             \u001b[0;34m.\u001b[0m\u001b[0mapply\u001b[0m\u001b[0;34m(\u001b[0m\u001b[0mremove_stopwords\u001b[0m\u001b[0;34m)\u001b[0m\u001b[0;34m\u001b[0m\u001b[0;34m\u001b[0m\u001b[0m\n",
      "\u001b[0;32m/usr/local/anaconda3/lib/python3.9/site-packages/pandas/core/series.py\u001b[0m in \u001b[0;36mapply\u001b[0;34m(self, func, convert_dtype, args, **kwargs)\u001b[0m\n\u001b[1;32m   4355\u001b[0m         \u001b[0mdtype\u001b[0m\u001b[0;34m:\u001b[0m \u001b[0mfloat64\u001b[0m\u001b[0;34m\u001b[0m\u001b[0;34m\u001b[0m\u001b[0m\n\u001b[1;32m   4356\u001b[0m         \"\"\"\n\u001b[0;32m-> 4357\u001b[0;31m         \u001b[0;32mreturn\u001b[0m \u001b[0mSeriesApply\u001b[0m\u001b[0;34m(\u001b[0m\u001b[0mself\u001b[0m\u001b[0;34m,\u001b[0m \u001b[0mfunc\u001b[0m\u001b[0;34m,\u001b[0m \u001b[0mconvert_dtype\u001b[0m\u001b[0;34m,\u001b[0m \u001b[0margs\u001b[0m\u001b[0;34m,\u001b[0m \u001b[0mkwargs\u001b[0m\u001b[0;34m)\u001b[0m\u001b[0;34m.\u001b[0m\u001b[0mapply\u001b[0m\u001b[0;34m(\u001b[0m\u001b[0;34m)\u001b[0m\u001b[0;34m\u001b[0m\u001b[0;34m\u001b[0m\u001b[0m\n\u001b[0m\u001b[1;32m   4358\u001b[0m \u001b[0;34m\u001b[0m\u001b[0m\n\u001b[1;32m   4359\u001b[0m     def _reduce(\n",
      "\u001b[0;32m/usr/local/anaconda3/lib/python3.9/site-packages/pandas/core/apply.py\u001b[0m in \u001b[0;36mapply\u001b[0;34m(self)\u001b[0m\n\u001b[1;32m   1041\u001b[0m             \u001b[0;32mreturn\u001b[0m \u001b[0mself\u001b[0m\u001b[0;34m.\u001b[0m\u001b[0mapply_str\u001b[0m\u001b[0;34m(\u001b[0m\u001b[0;34m)\u001b[0m\u001b[0;34m\u001b[0m\u001b[0;34m\u001b[0m\u001b[0m\n\u001b[1;32m   1042\u001b[0m \u001b[0;34m\u001b[0m\u001b[0m\n\u001b[0;32m-> 1043\u001b[0;31m         \u001b[0;32mreturn\u001b[0m \u001b[0mself\u001b[0m\u001b[0;34m.\u001b[0m\u001b[0mapply_standard\u001b[0m\u001b[0;34m(\u001b[0m\u001b[0;34m)\u001b[0m\u001b[0;34m\u001b[0m\u001b[0;34m\u001b[0m\u001b[0m\n\u001b[0m\u001b[1;32m   1044\u001b[0m \u001b[0;34m\u001b[0m\u001b[0m\n\u001b[1;32m   1045\u001b[0m     \u001b[0;32mdef\u001b[0m \u001b[0magg\u001b[0m\u001b[0;34m(\u001b[0m\u001b[0mself\u001b[0m\u001b[0;34m)\u001b[0m\u001b[0;34m:\u001b[0m\u001b[0;34m\u001b[0m\u001b[0;34m\u001b[0m\u001b[0m\n",
      "\u001b[0;32m/usr/local/anaconda3/lib/python3.9/site-packages/pandas/core/apply.py\u001b[0m in \u001b[0;36mapply_standard\u001b[0;34m(self)\u001b[0m\n\u001b[1;32m   1096\u001b[0m                 \u001b[0;31m# List[Union[Callable[..., Any], str]]]]]\"; expected\u001b[0m\u001b[0;34m\u001b[0m\u001b[0;34m\u001b[0m\u001b[0m\n\u001b[1;32m   1097\u001b[0m                 \u001b[0;31m# \"Callable[[Any], Any]\"\u001b[0m\u001b[0;34m\u001b[0m\u001b[0;34m\u001b[0m\u001b[0m\n\u001b[0;32m-> 1098\u001b[0;31m                 mapped = lib.map_infer(\n\u001b[0m\u001b[1;32m   1099\u001b[0m                     \u001b[0mvalues\u001b[0m\u001b[0;34m,\u001b[0m\u001b[0;34m\u001b[0m\u001b[0;34m\u001b[0m\u001b[0m\n\u001b[1;32m   1100\u001b[0m                     \u001b[0mf\u001b[0m\u001b[0;34m,\u001b[0m  \u001b[0;31m# type: ignore[arg-type]\u001b[0m\u001b[0;34m\u001b[0m\u001b[0;34m\u001b[0m\u001b[0m\n",
      "\u001b[0;32m/usr/local/anaconda3/lib/python3.9/site-packages/pandas/_libs/lib.pyx\u001b[0m in \u001b[0;36mpandas._libs.lib.map_infer\u001b[0;34m()\u001b[0m\n",
      "\u001b[0;32m~/Documents/codeup-data-science/natural-language-processing-exercises/prepare.py\u001b[0m in \u001b[0;36mbasic_clean\u001b[0;34m(string_data)\u001b[0m\n\u001b[1;32m     15\u001b[0m     '''\n\u001b[1;32m     16\u001b[0m     \u001b[0;31m# Strip any data that not words, number or space replacing with space (reject)\u001b[0m\u001b[0;34m\u001b[0m\u001b[0;34m\u001b[0m\u001b[0m\n\u001b[0;32m---> 17\u001b[0;31m     \u001b[0mstring_data\u001b[0m \u001b[0;34m=\u001b[0m \u001b[0mre\u001b[0m\u001b[0;34m.\u001b[0m\u001b[0msub\u001b[0m\u001b[0;34m(\u001b[0m\u001b[0;34mr\"[^\\w0-9'\\s]\"\u001b[0m\u001b[0;34m,\u001b[0m \u001b[0;34m''\u001b[0m\u001b[0;34m,\u001b[0m \u001b[0mstring_data\u001b[0m\u001b[0;34m)\u001b[0m\u001b[0;34m.\u001b[0m\u001b[0mlower\u001b[0m\u001b[0;34m(\u001b[0m\u001b[0;34m)\u001b[0m\u001b[0;34m\u001b[0m\u001b[0;34m\u001b[0m\u001b[0m\n\u001b[0m\u001b[1;32m     18\u001b[0m     \u001b[0;31m# Normalize encode data into standard NFKD unicode --> then ACSII code --> back to UTF-8\u001b[0m\u001b[0;34m\u001b[0m\u001b[0;34m\u001b[0m\u001b[0m\n\u001b[1;32m     19\u001b[0m     \u001b[0mstring_data\u001b[0m \u001b[0;34m=\u001b[0m \u001b[0municodedata\u001b[0m\u001b[0;34m.\u001b[0m\u001b[0mnormalize\u001b[0m\u001b[0;34m(\u001b[0m\u001b[0;34m'NFKD'\u001b[0m\u001b[0;34m,\u001b[0m \u001b[0mstring_data\u001b[0m\u001b[0;34m)\u001b[0m\u001b[0;34m.\u001b[0m\u001b[0mencode\u001b[0m\u001b[0;34m(\u001b[0m\u001b[0;34m'ascii'\u001b[0m\u001b[0;34m,\u001b[0m \u001b[0;34m'ignore'\u001b[0m\u001b[0;34m)\u001b[0m\u001b[0;34m.\u001b[0m\u001b[0mdecode\u001b[0m\u001b[0;34m(\u001b[0m\u001b[0;34m'utf-8'\u001b[0m\u001b[0;34m,\u001b[0m \u001b[0;34m'ignore'\u001b[0m\u001b[0;34m)\u001b[0m\u001b[0;34m\u001b[0m\u001b[0;34m\u001b[0m\u001b[0m\n",
      "\u001b[0;32m/usr/local/anaconda3/lib/python3.9/re.py\u001b[0m in \u001b[0;36msub\u001b[0;34m(pattern, repl, string, count, flags)\u001b[0m\n\u001b[1;32m    208\u001b[0m     \u001b[0ma\u001b[0m \u001b[0mcallable\u001b[0m\u001b[0;34m,\u001b[0m \u001b[0mit\u001b[0m\u001b[0;31m'\u001b[0m\u001b[0ms\u001b[0m \u001b[0mpassed\u001b[0m \u001b[0mthe\u001b[0m \u001b[0mMatch\u001b[0m \u001b[0mobject\u001b[0m \u001b[0;32mand\u001b[0m \u001b[0mmust\u001b[0m \u001b[0;32mreturn\u001b[0m\u001b[0;34m\u001b[0m\u001b[0;34m\u001b[0m\u001b[0m\n\u001b[1;32m    209\u001b[0m     a replacement string to be used.\"\"\"\n\u001b[0;32m--> 210\u001b[0;31m     \u001b[0;32mreturn\u001b[0m \u001b[0m_compile\u001b[0m\u001b[0;34m(\u001b[0m\u001b[0mpattern\u001b[0m\u001b[0;34m,\u001b[0m \u001b[0mflags\u001b[0m\u001b[0;34m)\u001b[0m\u001b[0;34m.\u001b[0m\u001b[0msub\u001b[0m\u001b[0;34m(\u001b[0m\u001b[0mrepl\u001b[0m\u001b[0;34m,\u001b[0m \u001b[0mstring\u001b[0m\u001b[0;34m,\u001b[0m \u001b[0mcount\u001b[0m\u001b[0;34m)\u001b[0m\u001b[0;34m\u001b[0m\u001b[0;34m\u001b[0m\u001b[0m\n\u001b[0m\u001b[1;32m    211\u001b[0m \u001b[0;34m\u001b[0m\u001b[0m\n\u001b[1;32m    212\u001b[0m \u001b[0;32mdef\u001b[0m \u001b[0msubn\u001b[0m\u001b[0;34m(\u001b[0m\u001b[0mpattern\u001b[0m\u001b[0;34m,\u001b[0m \u001b[0mrepl\u001b[0m\u001b[0;34m,\u001b[0m \u001b[0mstring\u001b[0m\u001b[0;34m,\u001b[0m \u001b[0mcount\u001b[0m\u001b[0;34m=\u001b[0m\u001b[0;36m0\u001b[0m\u001b[0;34m,\u001b[0m \u001b[0mflags\u001b[0m\u001b[0;34m=\u001b[0m\u001b[0;36m0\u001b[0m\u001b[0;34m)\u001b[0m\u001b[0;34m:\u001b[0m\u001b[0;34m\u001b[0m\u001b[0;34m\u001b[0m\u001b[0m\n",
      "\u001b[0;31mTypeError\u001b[0m: expected string or bytes-like object"
     ]
    }
   ],
   "source": [
    "prepare_dataframe(codeup_df, 'original', extra_words = ['ha'], exclude_words = ['no']).head()"
   ]
  },
  {
   "cell_type": "code",
   "execution_count": null,
   "id": "c56b6aab",
   "metadata": {},
   "outputs": [],
   "source": []
  },
  {
   "cell_type": "markdown",
   "id": "f159a28d",
   "metadata": {},
   "source": [
    "### Question: \n",
    "\n",
    "- If your corpus is 493KB, would you prefer to use stemmed or lemmatized text?\n",
    "- If your corpus is 25MB, would you prefer to use stemmed or lemmatized text?\n",
    "- If your corpus is 200TB of text and you're charged by the megabyte for your hosted computational resources, would you prefer to use stemmed or lemmatized text?"
   ]
  },
  {
   "cell_type": "code",
   "execution_count": null,
   "id": "1e8e22d8",
   "metadata": {},
   "outputs": [],
   "source": []
  }
 ],
 "metadata": {
  "kernelspec": {
   "display_name": "Python 3 (ipykernel)",
   "language": "python",
   "name": "python3"
  },
  "language_info": {
   "codemirror_mode": {
    "name": "ipython",
    "version": 3
   },
   "file_extension": ".py",
   "mimetype": "text/x-python",
   "name": "python",
   "nbconvert_exporter": "python",
   "pygments_lexer": "ipython3",
   "version": "3.9.7"
  }
 },
 "nbformat": 4,
 "nbformat_minor": 5
}
