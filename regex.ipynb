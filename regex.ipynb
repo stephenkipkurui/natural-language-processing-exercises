{
 "cells": [
  {
   "cell_type": "markdown",
   "id": "a1457ce1",
   "metadata": {},
   "source": [
    "# Natural Language Processing \n",
    "\n",
    "## Regular Expression (Regex) Exercises "
   ]
  },
  {
   "cell_type": "code",
   "execution_count": 164,
   "id": "fa58d398",
   "metadata": {},
   "outputs": [],
   "source": [
    "# Import re library\n",
    "import re\n",
    "import pandas as pd\n",
    "import datetime"
   ]
  },
  {
   "cell_type": "markdown",
   "id": "412b5392",
   "metadata": {},
   "source": [
    "#### (1). Write a function named is_vowel. It should accept a string as input and use a regular expression to determine if the passed string is a vowel. While not explicity mentioned in the lesson, you can treat the result of re.search as a boolean value that indicates whether or not the regular expression matches the given string."
   ]
  },
  {
   "cell_type": "code",
   "execution_count": 97,
   "id": "4d33eacd",
   "metadata": {},
   "outputs": [],
   "source": [
    "def is_vowel():\n",
    "    word = str(input('Enter word to check it starts with vowel:'))\n",
    "    regexp = r'[aeiouAEIOU]\\w+'\n",
    "    vowel = re.search(regexp, word)\n",
    "    if vowel:\n",
    "        print(f'{w} -- has a vowel.')\n",
    "    else:\n",
    "        print(f'{w} -- does not have a vowel.')"
   ]
  },
  {
   "cell_type": "code",
   "execution_count": 98,
   "id": "664d18ff",
   "metadata": {},
   "outputs": [
    {
     "name": "stdout",
     "output_type": "stream",
     "text": [
      "Enter word to check it starts with vowel:sds\n",
      "asasa -- does not have a vowel.\n"
     ]
    }
   ],
   "source": [
    "# Call the function\n",
    "is_vowel()"
   ]
  },
  {
   "cell_type": "markdown",
   "id": "6582e742",
   "metadata": {},
   "source": [
    "#### (2). Write a function named is_valid_username that accepts a string as input. A valid username starts with a lowercase letter, and only consists of lowercase letters, numbers, or the _ character. It should also be no longer than 32 characters. The function should return either True or False depending on whether the passed string is a valid username.\n",
    "\n",
    "- is_valid_username('aaaaaaaaaaaaaaaaaaaaaaaaaaaaaaaaa')\n",
    " - False\n",
    "- is_valid_username('codeup')\n",
    " - True\n",
    "- is_valid_username('codeup123')\n",
    " - False\n",
    "- is_valid_username('codeup123')\n",
    " - True\n",
    "- is_valid_username('1codeup')\n",
    " - False\n"
   ]
  },
  {
   "cell_type": "code",
   "execution_count": 161,
   "id": "4db6c58a",
   "metadata": {},
   "outputs": [],
   "source": [
    "def is_valid_username():\n",
    "    print('Valid username should contain:\\n\\t - no more than 32 characters,\\n\\t - starts with lower letter, \\n\\t - and, consists of numbers, letters & _ symbol')\n",
    "    username = str(input('\\nEnter your username:'))\n",
    "    \n",
    "    regexp = '^[a-z]\\d{,32}\\w+'\n",
    "    \n",
    "    valid_username = re.search(regexp, username)\n",
    "    \n",
    "    if valid_username:\n",
    "        return True\n",
    "    else:\n",
    "        return False\n",
    "    "
   ]
  },
  {
   "cell_type": "code",
   "execution_count": 163,
   "id": "f2ae93c1",
   "metadata": {},
   "outputs": [
    {
     "name": "stdout",
     "output_type": "stream",
     "text": [
      "Valid username should contain:\n",
      "\t - no more than 32 characters,\n",
      "\t - starts with lower letter, \n",
      "\t - and, consists of numbers, letters & _ symbol\n",
      "\n",
      "Enter your username:Codeup123\n"
     ]
    },
    {
     "data": {
      "text/plain": [
       "False"
      ]
     },
     "execution_count": 163,
     "metadata": {},
     "output_type": "execute_result"
    }
   ],
   "source": [
    "is_valid_username()"
   ]
  },
  {
   "cell_type": "markdown",
   "id": "2926fe26",
   "metadata": {},
   "source": [
    "#### (3). Write a regular expression to capture phone numbers. It should match all of the following:\n",
    "\n",
    "    (210) 867 5309\n",
    "    +1 210.867.5309\n",
    "    867-5309\n",
    "    210-867-5309"
   ]
  },
  {
   "cell_type": "code",
   "execution_count": 406,
   "id": "205dd3f1",
   "metadata": {
    "code_folding": [],
    "run_control": {
     "marked": false
    }
   },
   "outputs": [],
   "source": [
    "def phone_number():\n",
    "    \n",
    "    phone_no = input('Enter phone number: ')\n",
    "    regexp = '\\(\\d{3}\\)\\s\\d{3}\\s\\d{4}|\\d{3}\\-\\d{3}\\-\\d{4}|\\D?\\d{1,}\\s\\d{3}\\.\\d{3}\\.\\d{4}|\\d{3}\\-\\d{4}'\n",
    "    \n",
    "    match = re.findall(regexp, phone_no)\n",
    "    \n",
    "    if phone_no in match :\n",
    "        \n",
    "        return True\n",
    "    else:\n",
    "        print('Regex pattern not found')\n",
    "        "
   ]
  },
  {
   "cell_type": "code",
   "execution_count": 407,
   "id": "c397cf6f",
   "metadata": {},
   "outputs": [
    {
     "name": "stdout",
     "output_type": "stream",
     "text": [
      "Enter phone number: +1 210.867.5309\n"
     ]
    },
    {
     "data": {
      "text/plain": [
       "True"
      ]
     },
     "execution_count": 407,
     "metadata": {},
     "output_type": "execute_result"
    }
   ],
   "source": [
    "# Call the function\n",
    "phone_number()"
   ]
  },
  {
   "cell_type": "markdown",
   "id": "12142c6e",
   "metadata": {},
   "source": [
    "#### (4). Use regular expressions to convert the dates below to the standardized year-month-day format.\n",
    "    02/04/19\n",
    "    02/05/19\n",
    "    02/06/19\n",
    "    02/07/19\n",
    "    02/08/19\n",
    "    02/09/19\n",
    "    02/10/19\n",
    "    \n",
    "    Standard Date format --> YYYY-MM-DD"
   ]
  },
  {
   "cell_type": "code",
   "execution_count": 473,
   "id": "14ce07c1",
   "metadata": {},
   "outputs": [],
   "source": [
    "def standardize_date():\n",
    "\n",
    "    dt = input(\"Enter Date to be standardized in format (in DD/MM/YYYY):\") \n",
    "    \n",
    "    year = re.sub('\\D\\d{2,2}$','-2019',dt)\n",
    "    date = re.sub('^\\d{2}\\/','FEB-',year)\n",
    "    if date:\n",
    "        return date\n",
    "    else:\n",
    "        print('Enter date')\n",
    "        \n",
    "        dt = input(\"Enter Date to be standardized in format (in DD/MM/YYYY):\") "
   ]
  },
  {
   "cell_type": "code",
   "execution_count": 474,
   "id": "1e47260b",
   "metadata": {},
   "outputs": [
    {
     "name": "stdout",
     "output_type": "stream",
     "text": [
      "Enter Date to be standardized in format (in DD/MM/YYYY):02/10/19\n"
     ]
    },
    {
     "data": {
      "text/plain": [
       "'FEB-10-2019'"
      ]
     },
     "execution_count": 474,
     "metadata": {},
     "output_type": "execute_result"
    }
   ],
   "source": [
    "# Call the date standadizer function \n",
    "standardize_date()"
   ]
  },
  {
   "cell_type": "markdown",
   "id": "03a452be",
   "metadata": {},
   "source": [
    "#### Alternate Way"
   ]
  },
  {
   "cell_type": "code",
   "execution_count": 475,
   "id": "010cb5a7",
   "metadata": {},
   "outputs": [
    {
     "data": {
      "text/plain": [
       "0    2019-02-04\n",
       "1    2019-02-05\n",
       "2    2019-02-06\n",
       "3    2019-02-07\n",
       "4    2019-02-08\n",
       "5    2019-02-09\n",
       "6    2019-02-10\n",
       "dtype: object"
      ]
     },
     "execution_count": 475,
     "metadata": {},
     "output_type": "execute_result"
    }
   ],
   "source": [
    "dates = pd.Series([\n",
    "    '02/04/19',\n",
    "    '02/05/19',\n",
    "    '02/06/19',\n",
    "    '02/07/19',\n",
    "    '02/08/19',\n",
    "    '02/09/19',\n",
    "    '02/10/19',\n",
    "])\n",
    "dates.str.replace(r'(\\d+)/(\\d+)/(\\d+)', r'20\\3-\\1-\\2', regex=True)"
   ]
  },
  {
   "cell_type": "markdown",
   "id": "7dcea3d2",
   "metadata": {},
   "source": [
    "#### (5). Write a regex to extract the various parts of these logfile lines:\n",
    "\n",
    "    GET /api/v1/sales?page=86 [16/Apr/2019:193452+0000] HTTP/1.1 {200} 510348 \"python-requests/2.21.0\" 97.105.19.58\n",
    "    POST /users_accounts/file-upload [16/Apr/2019:193452+0000] HTTP/1.1 {201} 42 \"User-Agent: Mozilla/5.0 (X11;Fedora;Fedora; Linux x86_64) AppleWebKit/537.36 (KHTML, like Gecko) Chrome/73.0.3683.86 Safari/537.36\" 97.105.19.58\n",
    "    GET /api/v1/items?page=3 [16/Apr/2019:193453+0000] HTTP/1.1 {429} 3561 \"python-requests/2.21.0\" 97.105.19.58\n",
    "\n",
    "\n"
   ]
  },
  {
   "cell_type": "code",
   "execution_count": 463,
   "id": "eec215b6",
   "metadata": {},
   "outputs": [
    {
     "data": {
      "text/html": [
       "<div><div id=095d3120-c62d-40d8-b075-092ad6c3b21e style=\"display:none; background-color:#9D6CFF; color:white; width:200px; height:30px; padding-left:5px; border-radius:4px; flex-direction:row; justify-content:space-around; align-items:center;\" onmouseover=\"this.style.backgroundColor='#BA9BF8'\" onmouseout=\"this.style.backgroundColor='#9D6CFF'\" onclick=\"window.commands?.execute('create-mitosheet-from-dataframe-output');\">See Full Dataframe in Mito</div> <script> if (window.commands.hasCommand('create-mitosheet-from-dataframe-output')) document.getElementById('095d3120-c62d-40d8-b075-092ad6c3b21e').style.display = 'flex' </script> <table border=\"1\" class=\"dataframe\">\n",
       "  <thead>\n",
       "    <tr style=\"text-align: right;\">\n",
       "      <th></th>\n",
       "      <th>method</th>\n",
       "      <th>path</th>\n",
       "      <th>timestamp</th>\n",
       "      <th>http_version</th>\n",
       "      <th>status</th>\n",
       "      <th>bytes_sent</th>\n",
       "      <th>user_agent</th>\n",
       "    </tr>\n",
       "  </thead>\n",
       "  <tbody>\n",
       "    <tr>\n",
       "      <th>0</th>\n",
       "      <td>GET</td>\n",
       "      <td>/api/v1/sales?page=86</td>\n",
       "      <td>16/Apr/2019:193452+0000</td>\n",
       "      <td>HTTP/1.1</td>\n",
       "      <td>200</td>\n",
       "      <td>510348</td>\n",
       "      <td>python-requests/2.21.0\" 97.105.19.58</td>\n",
       "    </tr>\n",
       "    <tr>\n",
       "      <th>1</th>\n",
       "      <td>POST</td>\n",
       "      <td>/users_accounts/file-upload</td>\n",
       "      <td>16/Apr/2019:193452+0000</td>\n",
       "      <td>HTTP/1.1</td>\n",
       "      <td>201</td>\n",
       "      <td>42</td>\n",
       "      <td>User-Agent: Mozilla/5.0 (X11; Fedora; Fedora; Linux x86_64) AppleWebKit/537.36 (KHTML, like Gecko) Chrome/73.0.3683.86 Safari/537.36\" 97.105.19.58</td>\n",
       "    </tr>\n",
       "    <tr>\n",
       "      <th>2</th>\n",
       "      <td>GET</td>\n",
       "      <td>/api/v1/items?page=3</td>\n",
       "      <td>16/Apr/2019:193453+0000</td>\n",
       "      <td>HTTP/1.1</td>\n",
       "      <td>429</td>\n",
       "      <td>3561</td>\n",
       "      <td>python-requests/2.21.0\" 97.105.19.58</td>\n",
       "    </tr>\n",
       "  </tbody>\n",
       "</table></div>"
      ],
      "text/plain": [
       "  method                         path                timestamp http_version  \\\n",
       "0    GET        /api/v1/sales?page=86  16/Apr/2019:193452+0000     HTTP/1.1   \n",
       "1   POST  /users_accounts/file-upload  16/Apr/2019:193452+0000     HTTP/1.1   \n",
       "2    GET         /api/v1/items?page=3  16/Apr/2019:193453+0000     HTTP/1.1   \n",
       "\n",
       "  status bytes_sent                                         user_agent  \n",
       "0    200     510348               python-requests/2.21.0\" 97.105.19.58  \n",
       "1    201         42  User-Agent: Mozilla/5.0 (X11; Fedora; Fedora; ...  \n",
       "2    429       3561               python-requests/2.21.0\" 97.105.19.58  "
      ]
     },
     "execution_count": 463,
     "metadata": {},
     "output_type": "execute_result"
    }
   ],
   "source": [
    "logfile_re = r'''\n",
    "^(?P<method>GET|POST)\n",
    "\\s+\n",
    "(?P<path>.*?)\n",
    "\\s+\n",
    "\\[(?P<timestamp>.*?)\\]\n",
    "\\s+\n",
    "(?P<http_version>.*?)\n",
    "\\s+\n",
    "\\{(?P<status>\\d+)\\}\n",
    "\\s+\n",
    "(?P<bytes_sent>\\d+)\n",
    "\\s+\n",
    "\"(?P<user_agent>.*)$\n",
    "'''\n",
    "\n",
    "lines = pd.Series([\n",
    "    'GET /api/v1/sales?page=86 [16/Apr/2019:193452+0000] HTTP/1.1 {200} 510348 \"python-requests/2.21.0\" 97.105.19.58',\n",
    "    'POST /users_accounts/file-upload [16/Apr/2019:193452+0000] HTTP/1.1 {201} 42 \"User-Agent: Mozilla/5.0 (X11; Fedora; Fedora; Linux x86_64) AppleWebKit/537.36 (KHTML, like Gecko) Chrome/73.0.3683.86 Safari/537.36\" 97.105.19.58',\n",
    "    'GET /api/v1/items?page=3 [16/Apr/2019:193453+0000] HTTP/1.1 {429} 3561 \"python-requests/2.21.0\" 97.105.19.58',\n",
    "])\n",
    "lines.str.extract(logfile_re, re.VERBOSE)"
   ]
  }
 ],
 "metadata": {
  "kernelspec": {
   "display_name": "Python 3 (ipykernel)",
   "language": "python",
   "name": "python3"
  },
  "language_info": {
   "codemirror_mode": {
    "name": "ipython",
    "version": 3
   },
   "file_extension": ".py",
   "mimetype": "text/x-python",
   "name": "python",
   "nbconvert_exporter": "python",
   "pygments_lexer": "ipython3",
   "version": "3.9.7"
  }
 },
 "nbformat": 4,
 "nbformat_minor": 5
}
