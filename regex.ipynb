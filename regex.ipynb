{
 "cells": [
  {
   "cell_type": "markdown",
   "id": "365a2f16",
   "metadata": {},
   "source": [
    "# Natural Language Processing \n",
    "\n",
    "## Regular Expression (Regex) Exercises "
   ]
  },
  {
   "cell_type": "code",
   "execution_count": 164,
   "id": "3fd52a94",
   "metadata": {},
   "outputs": [],
   "source": [
    "# Import re library\n",
    "import re\n",
    "import pandas as pd\n",
    "import datetime"
   ]
  },
  {
   "cell_type": "markdown",
   "id": "66153d51",
   "metadata": {},
   "source": [
    "#### (1). Write a function named is_vowel. It should accept a string as input and use a regular expression to determine if the passed string is a vowel. While not explicity mentioned in the lesson, you can treat the result of re.search as a boolean value that indicates whether or not the regular expression matches the given string."
   ]
  },
  {
   "cell_type": "code",
   "execution_count": 97,
   "id": "712fb90e",
   "metadata": {},
   "outputs": [],
   "source": [
    "def is_vowel():\n",
    "    word = str(input('Enter word to check it starts with vowel:'))\n",
    "    regexp = r'[aeiouAEIOU]\\w+'\n",
    "    vowel = re.search(regexp, word)\n",
    "    if vowel:\n",
    "        print(f'{w} -- has a vowel.')\n",
    "    else:\n",
    "        print(f'{w} -- does not have a vowel.')"
   ]
  },
  {
   "cell_type": "code",
   "execution_count": 98,
   "id": "be727d91",
   "metadata": {},
   "outputs": [
    {
     "name": "stdout",
     "output_type": "stream",
     "text": [
      "Enter word to check it starts with vowel:sds\n",
      "asasa -- does not have a vowel.\n"
     ]
    }
   ],
   "source": [
    "# Call the function\n",
    "is_vowel()"
   ]
  },
  {
   "cell_type": "markdown",
   "id": "e83168cf",
   "metadata": {},
   "source": [
    "#### (2). Write a function named is_valid_username that accepts a string as input. A valid username starts with a lowercase letter, and only consists of lowercase letters, numbers, or the _ character. It should also be no longer than 32 characters. The function should return either True or False depending on whether the passed string is a valid username.\n",
    "\n",
    "- is_valid_username('aaaaaaaaaaaaaaaaaaaaaaaaaaaaaaaaa')\n",
    " - False\n",
    "- is_valid_username('codeup')\n",
    " - True\n",
    "- is_valid_username('codeup123')\n",
    " - False\n",
    "- is_valid_username('codeup123')\n",
    " - True\n",
    "- is_valid_username('1codeup')\n",
    " - False\n"
   ]
  },
  {
   "cell_type": "code",
   "execution_count": 161,
   "id": "98d1aba7",
   "metadata": {},
   "outputs": [],
   "source": [
    "def is_valid_username():\n",
    "    print('Valid username should contain:\\n\\t - no more than 32 characters,\\n\\t - starts with lower letter, \\n\\t - and, consists of numbers, letters & _ symbol')\n",
    "    username = str(input('\\nEnter your username:'))\n",
    "    \n",
    "    regexp = '^[a-z]\\d{,32}\\w+'\n",
    "    \n",
    "    valid_username = re.search(regexp, username)\n",
    "    \n",
    "    if valid_username:\n",
    "        return True\n",
    "    else:\n",
    "        return False\n",
    "    "
   ]
  },
  {
   "cell_type": "code",
   "execution_count": 163,
   "id": "2baf814b",
   "metadata": {},
   "outputs": [
    {
     "name": "stdout",
     "output_type": "stream",
     "text": [
      "Valid username should contain:\n",
      "\t - no more than 32 characters,\n",
      "\t - starts with lower letter, \n",
      "\t - and, consists of numbers, letters & _ symbol\n",
      "\n",
      "Enter your username:Codeup123\n"
     ]
    },
    {
     "data": {
      "text/plain": [
       "False"
      ]
     },
     "execution_count": 163,
     "metadata": {},
     "output_type": "execute_result"
    }
   ],
   "source": [
    "is_valid_username()"
   ]
  },
  {
   "cell_type": "markdown",
   "id": "09edc005",
   "metadata": {},
   "source": [
    "#### (3). Write a regular expression to capture phone numbers. It should match all of the following:\n",
    "\n",
    "    (210) 867 5309\n",
    "    +1 210.867.5309\n",
    "    867-5309\n",
    "    210-867-5309"
   ]
  },
  {
   "cell_type": "code",
   "execution_count": 406,
   "id": "19e38060",
   "metadata": {
    "code_folding": [],
    "run_control": {
     "marked": false
    }
   },
   "outputs": [],
   "source": [
    "def phone_number():\n",
    "    \n",
    "    phone_no = input('Enter phone number: ')\n",
    "    regexp = '\\(\\d{3}\\)\\s\\d{3}\\s\\d{4}|\\d{3}\\-\\d{3}\\-\\d{4}|\\D?\\d{1,}\\s\\d{3}\\.\\d{3}\\.\\d{4}|\\d{3}\\-\\d{4}'\n",
    "    \n",
    "    match = re.findall(regexp, phone_no)\n",
    "    \n",
    "    if phone_no in match :\n",
    "        \n",
    "        return True\n",
    "    else:\n",
    "        print('Regex pattern not found')\n",
    "        "
   ]
  },
  {
   "cell_type": "code",
   "execution_count": 407,
   "id": "c3e28630",
   "metadata": {},
   "outputs": [
    {
     "name": "stdout",
     "output_type": "stream",
     "text": [
      "Enter phone number: +1 210.867.5309\n"
     ]
    },
    {
     "data": {
      "text/plain": [
       "True"
      ]
     },
     "execution_count": 407,
     "metadata": {},
     "output_type": "execute_result"
    }
   ],
   "source": [
    "# Call the function\n",
    "phone_number()"
   ]
  },
  {
   "cell_type": "markdown",
   "id": "3d78cdc2",
   "metadata": {},
   "source": [
    "#### (4). Use regular expressions to convert the dates below to the standardized year-month-day format.\n",
    "    02/04/19\n",
    "    02/05/19\n",
    "    02/06/19\n",
    "    02/07/19\n",
    "    02/08/19\n",
    "    02/09/19\n",
    "    02/10/19\n",
    "    \n",
    "    Standard Date format --> YYYY-MM-DD"
   ]
  },
  {
   "cell_type": "code",
   "execution_count": 460,
   "id": "c07529aa",
   "metadata": {},
   "outputs": [],
   "source": [
    "def standardize_date():\n",
    "\n",
    "    dt = input(\"Enter Date to be standardized in format (in DD/MM/YYYY):\") \n",
    "    \n",
    "    year = re.sub('\\D\\d{2,2}$','-2019',dt)\n",
    "    date = re.sub('^\\d{2}\\/','FEB-',year)\n",
    "    \n",
    "    return date"
   ]
  },
  {
   "cell_type": "code",
   "execution_count": 461,
   "id": "4a6c115b",
   "metadata": {},
   "outputs": [
    {
     "name": "stdout",
     "output_type": "stream",
     "text": [
      "Enter Date to be standardized in format (in DD/MM/YYYY):02/07/19\n"
     ]
    },
    {
     "data": {
      "text/plain": [
       "'FEB-07-2019'"
      ]
     },
     "execution_count": 461,
     "metadata": {},
     "output_type": "execute_result"
    }
   ],
   "source": [
    "# Call the date standadizer function \n",
    "standardize_date()"
   ]
  },
  {
   "cell_type": "markdown",
   "id": "84356669",
   "metadata": {},
   "source": [
    "#### (5). Write a regex to extract the various parts of these logfile lines:\n",
    "\n",
    "    GET /api/v1/sales?page=86 [16/Apr/2019:193452+0000] HTTP/1.1 {200} 510348 \"python-requests/2.21.0\" 97.105.19.58\n",
    "    POST /users_accounts/file-upload [16/Apr/2019:193452+0000] HTTP/1.1 {201} 42 \"User-Agent: Mozilla/5.0 (X11;Fedora;Fedora; Linux x86_64) AppleWebKit/537.36 (KHTML, like Gecko) Chrome/73.0.3683.86 Safari/537.36\" 97.105.19.58\n",
    "    GET /api/v1/items?page=3 [16/Apr/2019:193453+0000] HTTP/1.1 {429} 3561 \"python-requests/2.21.0\" 97.105.19.58\n",
    "\n",
    "\n"
   ]
  },
  {
   "cell_type": "code",
   "execution_count": 431,
   "id": "4ff29ec7",
   "metadata": {},
   "outputs": [],
   "source": [
    "get_ulr1 = 'GET /api/v1/sales?page=86 [16/Apr/2019:193452+0000] HTTP/1.1 {200} 510348 \"python-requests/2.21.0\" 97.105.19.58'\n",
    "\n",
    "post_url = 'POST /users_accounts/file-upload [16/Apr/2019:193452+0000] HTTP/1.1 {201} 42 \"User-Agent: Mozilla/5.0 (X11;Fedora;Fedora; Linux x86_64) AppleWebKit/537.36 (KHTML, like Gecko) Chrome/73.0.3683.86 Safari/537.36\" 97.105.19.58'\n",
    "\n",
    "get_url2 = 'GET /api/v1/items?page=3 [16/Apr/2019:193453+0000] HTTP/1.1 {429} 3561 \"python-requests/2.21.0\" 97.105.19.58'"
   ]
  },
  {
   "cell_type": "code",
   "execution_count": null,
   "id": "8205fca7",
   "metadata": {},
   "outputs": [],
   "source": []
  },
  {
   "cell_type": "code",
   "execution_count": null,
   "id": "66f2ea25",
   "metadata": {},
   "outputs": [],
   "source": []
  },
  {
   "cell_type": "code",
   "execution_count": null,
   "id": "a1d2287b",
   "metadata": {},
   "outputs": [],
   "source": []
  },
  {
   "cell_type": "code",
   "execution_count": null,
   "id": "ea305337",
   "metadata": {},
   "outputs": [],
   "source": []
  },
  {
   "cell_type": "markdown",
   "id": "b3b6f84c",
   "metadata": {},
   "source": [
    "### Bonus Exercises\n",
    "\n",
    "You can find a list of words on your mac at /usr/share/dict/words. Use this file to answer the following questions:\n",
    "\n",
    "\n",
    "- How many words have at least 3 vowels?\n",
    "- How many words have at least 3 vowels in a row?\n",
    "- How many words have at least 4 consonants in a row?\n",
    "- How many words start and end with the same letter?\n",
    "- How many words start and end with a vowel?\n",
    "- How many words contain the same letter 3 times in a row?\n",
    "- What other interesting patterns in words can you find?"
   ]
  },
  {
   "cell_type": "code",
   "execution_count": 430,
   "id": "685f8bea",
   "metadata": {},
   "outputs": [
    {
     "ename": "NameError",
     "evalue": "name 'A' is not defined",
     "output_type": "error",
     "traceback": [
      "\u001b[0;31m---------------------------------------------------------------------------\u001b[0m",
      "\u001b[0;31mNameError\u001b[0m                                 Traceback (most recent call last)",
      "\u001b[0;32m/var/folders/b2/3fdswr7x4v5fhdt54wpcfmdw0000gn/T/ipykernel_52300/2224967514.py\u001b[0m in \u001b[0;36m<module>\u001b[0;34m\u001b[0m\n\u001b[0;32m----> 1\u001b[0;31m \u001b[0mA\u001b[0m\u001b[0;34m\u001b[0m\u001b[0;34m\u001b[0m\u001b[0m\n\u001b[0m\u001b[1;32m      2\u001b[0m \u001b[0ma\u001b[0m\u001b[0;34m\u001b[0m\u001b[0;34m\u001b[0m\u001b[0m\n\u001b[1;32m      3\u001b[0m \u001b[0maa\u001b[0m\u001b[0;34m\u001b[0m\u001b[0;34m\u001b[0m\u001b[0m\n\u001b[1;32m      4\u001b[0m \u001b[0maal\u001b[0m\u001b[0;34m\u001b[0m\u001b[0;34m\u001b[0m\u001b[0m\n\u001b[1;32m      5\u001b[0m \u001b[0maalii\u001b[0m\u001b[0;34m\u001b[0m\u001b[0;34m\u001b[0m\u001b[0m\n",
      "\u001b[0;31mNameError\u001b[0m: name 'A' is not defined"
     ]
    }
   ],
   "source": [
    "A\n",
    "a\n",
    "aa\n",
    "aal\n",
    "aalii\n",
    "aam\n",
    "Aani\n",
    "aardvark\n",
    "aardwolf\n",
    "Aaron\n",
    "Aaronic\n",
    "Aaronical\n",
    "Aaronite\n",
    "Aaronitic\n",
    "Aaru\n",
    "Ab\n",
    "aba\n",
    "Ababdeh\n",
    "Ababua\n",
    "abac\n",
    "abaca\n",
    "abacate\n",
    "abacay\n",
    "abacinate\n",
    "abacination\n",
    "abaciscus\n",
    "abacist\n",
    "aback\n",
    "abactinal\n",
    "abactinally\n",
    "abaction\n",
    "abactor\n",
    "abaculus\n",
    "abacus\n",
    "Abadite\n",
    "abaff\n",
    "abaft\n",
    "abaisance\n",
    "abaiser\n",
    "abaissed\n",
    "abalienate\n",
    "abalienation\n",
    "abalone\n",
    "Abama\n",
    "abampere\n",
    "abandon\n",
    "abandonable\n",
    "abandoned\n",
    "abandonedly\n",
    "abandonee\n",
    "abandoner\n",
    "abandonment\n",
    "Abanic\n",
    "Abantes\n",
    "abaptiston\n",
    "Abarambo\n",
    "Abaris\n",
    "abarthrosis\n",
    "abarticular\n",
    "abarticulation\n",
    "abas\n",
    "abase\n",
    "abased\n",
    "abasedly\n"
   ]
  },
  {
   "cell_type": "code",
   "execution_count": null,
   "id": "4d06921d",
   "metadata": {},
   "outputs": [],
   "source": []
  }
 ],
 "metadata": {
  "kernelspec": {
   "display_name": "Python 3 (ipykernel)",
   "language": "python",
   "name": "python3"
  },
  "language_info": {
   "codemirror_mode": {
    "name": "ipython",
    "version": 3
   },
   "file_extension": ".py",
   "mimetype": "text/x-python",
   "name": "python",
   "nbconvert_exporter": "python",
   "pygments_lexer": "ipython3",
   "version": "3.9.7"
  }
 },
 "nbformat": 4,
 "nbformat_minor": 5
}
