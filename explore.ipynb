{
 "cells": [
  {
   "cell_type": "markdown",
   "id": "09a2fa2a",
   "metadata": {},
   "source": [
    "# Natural Language Processing \n",
    "\n",
    "## Prepare Module"
   ]
  },
  {
   "cell_type": "code",
   "execution_count": 1,
   "id": "c4dd51cd",
   "metadata": {},
   "outputs": [],
   "source": [
    "# Import functions\n",
    "import requests\n",
    "from bs4 import BeautifulSoup\n",
    "\n",
    "import acquire\n",
    "import prepare\n",
    "\n",
    "import warnings\n",
    "warnings.filterwarnings('ignore')"
   ]
  },
  {
   "cell_type": "markdown",
   "id": "380c7ecd",
   "metadata": {},
   "source": [
    "### News DataFrame"
   ]
  },
  {
   "cell_type": "code",
   "execution_count": 13,
   "id": "53f6ac02",
   "metadata": {},
   "outputs": [
    {
     "data": {
      "text/html": [
       "<div><div id=7c06707f-ef0c-476c-9e90-8efc378cfa5a style=\"display:none; background-color:#9D6CFF; color:white; width:200px; height:30px; padding-left:5px; border-radius:4px; flex-direction:row; justify-content:space-around; align-items:center;\" onmouseover=\"this.style.backgroundColor='#BA9BF8'\" onmouseout=\"this.style.backgroundColor='#9D6CFF'\" onclick=\"window.commands?.execute('create-mitosheet-from-dataframe-output');\">See Full Dataframe in Mito</div> <script> if (window.commands.hasCommand('create-mitosheet-from-dataframe-output')) document.getElementById('7c06707f-ef0c-476c-9e90-8efc378cfa5a').style.display = 'flex' </script> <table border=\"1\" class=\"dataframe\">\n",
       "  <thead>\n",
       "    <tr style=\"text-align: right;\">\n",
       "      <th></th>\n",
       "      <th>category</th>\n",
       "      <th>title</th>\n",
       "      <th>content</th>\n",
       "      <th>author</th>\n",
       "      <th>published</th>\n",
       "    </tr>\n",
       "  </thead>\n",
       "  <tbody>\n",
       "    <tr>\n",
       "      <th>0</th>\n",
       "      <td>business</td>\n",
       "      <td>Rupee hits all-time low of 77.42 against US dollar</td>\n",
       "      <td>The Indian rupee fell to an all-time low of 77.42 against the US dollar on Monday, Reuters reported. Asian markets were lower on Monday as US stock futures fell on fears of more policy tightening from the Federal Reserve and strict lockdown in Shanghai impacting global growth, according to Reuters.</td>\n",
       "      <td>Apaar Sharma</td>\n",
       "      <td>2022-05-09T05:05:31.000Z</td>\n",
       "    </tr>\n",
       "    <tr>\n",
       "      <th>1</th>\n",
       "      <td>business</td>\n",
       "      <td>Bitcoin falls to the lowest level since January, trades below $34,000</td>\n",
       "      <td>Bitcoin fell on Monday to as low as $33,266 in morning trade, nearing January's low of $32,951 as slumping equity markets continued to hurt cryptocurrencies. It then steadied to trade above $33,600. According to BBC, the world's largest cryptocurrency has fallen by 50% since its peak in November 2021.</td>\n",
       "      <td>Pragya Swastik</td>\n",
       "      <td>2022-05-09T09:20:34.000Z</td>\n",
       "    </tr>\n",
       "    <tr>\n",
       "      <th>2</th>\n",
       "      <td>business</td>\n",
       "      <td>Made best possible decision: IndiGo on barring differently-abled child from flight</td>\n",
       "      <td>IndiGo's CEO Ronojoy Dutta said the airline made \"the best possible decision\" by barring a differently-abled teenager and his family from boarding a Ranchi-Hyderabad flight. \"At boarding area, the teenager was visibly in panic...the airport staff, in line with safety guidelines, were forced to make a difficult decision,\" Dutta said. IndiGo offered to purchase an electric wheelchair for the child.</td>\n",
       "      <td>Pragya Swastik</td>\n",
       "      <td>2022-05-09T09:50:34.000Z</td>\n",
       "    </tr>\n",
       "  </tbody>\n",
       "</table></div>"
      ],
      "text/plain": [
       "   category                                              title  \\\n",
       "0  business  Rupee hits all-time low of 77.42 against US do...   \n",
       "1  business  Bitcoin falls to the lowest level since Januar...   \n",
       "2  business  Made best possible decision: IndiGo on barring...   \n",
       "\n",
       "                                             content          author  \\\n",
       "0  The Indian rupee fell to an all-time low of 77...    Apaar Sharma   \n",
       "1  Bitcoin fell on Monday to as low as $33,266 in...  Pragya Swastik   \n",
       "2  IndiGo's CEO Ronojoy Dutta said the airline ma...  Pragya Swastik   \n",
       "\n",
       "                  published  \n",
       "0  2022-05-09T05:05:31.000Z  \n",
       "1  2022-05-09T09:20:34.000Z  \n",
       "2  2022-05-09T09:50:34.000Z  "
      ]
     },
     "execution_count": 13,
     "metadata": {},
     "output_type": "execute_result"
    }
   ],
   "source": [
    "# Acquire news df\n",
    "\n",
    "news_df = acquire.get_news_articles()\n",
    "news_df.head(3)"
   ]
  },
  {
   "cell_type": "code",
   "execution_count": 30,
   "id": "b7bfaeff",
   "metadata": {},
   "outputs": [
    {
     "data": {
      "text/plain": [
       "'he indian rupee fell to an alltime low of 7742 against the                         us dollar on monday reuters reported asian markets were lower                          on monday as us stock futures fell on fears of more policy tightening                          from the federal reserve and strict lockdown in shanghai impacting global                          growth according to reuters'"
      ]
     },
     "execution_count": 30,
     "metadata": {},
     "output_type": "execute_result"
    }
   ],
   "source": [
    "df = prepare.basic_clean('he Indian rupee fell to an all-time low of 77.42 against the\\\n",
    "                         US dollar on Monday, Reuters reported. Asian markets were lower \\\n",
    "                         on Monday as US stock futures fell on fears of more policy tightening \\\n",
    "                         from the Federal Reserve and strict lockdown in Shanghai impacting global \\\n",
    "                         growth, according to Reuters.')\n",
    "df"
   ]
  },
  {
   "cell_type": "code",
   "execution_count": null,
   "id": "2768399b",
   "metadata": {},
   "outputs": [],
   "source": []
  },
  {
   "cell_type": "markdown",
   "id": "3400159c",
   "metadata": {},
   "source": [
    "### CodeUp DataFrame"
   ]
  },
  {
   "cell_type": "code",
   "execution_count": 4,
   "id": "a1d818ee",
   "metadata": {},
   "outputs": [
    {
     "data": {
      "text/html": [
       "<div><div id=ff218fe1-583f-4938-b260-75b76d90f074 style=\"display:none; background-color:#9D6CFF; color:white; width:200px; height:30px; padding-left:5px; border-radius:4px; flex-direction:row; justify-content:space-around; align-items:center;\" onmouseover=\"this.style.backgroundColor='#BA9BF8'\" onmouseout=\"this.style.backgroundColor='#9D6CFF'\" onclick=\"window.commands?.execute('create-mitosheet-from-dataframe-output');\">See Full Dataframe in Mito</div> <script> if (window.commands.hasCommand('create-mitosheet-from-dataframe-output')) document.getElementById('ff218fe1-583f-4938-b260-75b76d90f074').style.display = 'flex' </script> <table border=\"1\" class=\"dataframe\">\n",
       "  <thead>\n",
       "    <tr style=\"text-align: right;\">\n",
       "      <th></th>\n",
       "      <th>title</th>\n",
       "      <th>published</th>\n",
       "      <th>content</th>\n",
       "    </tr>\n",
       "  </thead>\n",
       "  <tbody>\n",
       "    <tr>\n",
       "      <th>0</th>\n",
       "      <td>NaN</td>\n",
       "      <td>NaN</td>\n",
       "      <td>NaN</td>\n",
       "    </tr>\n",
       "    <tr>\n",
       "      <th>1</th>\n",
       "      <td>NaN</td>\n",
       "      <td>NaN</td>\n",
       "      <td>NaN</td>\n",
       "    </tr>\n",
       "    <tr>\n",
       "      <th>2</th>\n",
       "      <td>NaN</td>\n",
       "      <td>NaN</td>\n",
       "      <td>NaN</td>\n",
       "    </tr>\n",
       "    <tr>\n",
       "      <th>3</th>\n",
       "      <td>NaN</td>\n",
       "      <td>NaN</td>\n",
       "      <td>NaN</td>\n",
       "    </tr>\n",
       "    <tr>\n",
       "      <th>4</th>\n",
       "      <td>NaN</td>\n",
       "      <td>NaN</td>\n",
       "      <td>NaN</td>\n",
       "    </tr>\n",
       "    <tr>\n",
       "      <th>...</th>\n",
       "      <td>...</td>\n",
       "      <td>...</td>\n",
       "      <td>...</td>\n",
       "    </tr>\n",
       "    <tr>\n",
       "      <th>10</th>\n",
       "      <td>NaN</td>\n",
       "      <td>NaN</td>\n",
       "      <td>NaN</td>\n",
       "    </tr>\n",
       "    <tr>\n",
       "      <th>11</th>\n",
       "      <td>NaN</td>\n",
       "      <td>NaN</td>\n",
       "      <td>NaN</td>\n",
       "    </tr>\n",
       "    <tr>\n",
       "      <th>12</th>\n",
       "      <td>NaN</td>\n",
       "      <td>NaN</td>\n",
       "      <td>NaN</td>\n",
       "    </tr>\n",
       "    <tr>\n",
       "      <th>13</th>\n",
       "      <td>NaN</td>\n",
       "      <td>NaN</td>\n",
       "      <td>NaN</td>\n",
       "    </tr>\n",
       "    <tr>\n",
       "      <th>14</th>\n",
       "      <td>NaN</td>\n",
       "      <td>NaN</td>\n",
       "      <td>NaN</td>\n",
       "    </tr>\n",
       "  </tbody>\n",
       "</table></div>"
      ],
      "text/plain": [
       "    title  published  content\n",
       "0     NaN        NaN      NaN\n",
       "1     NaN        NaN      NaN\n",
       "2     NaN        NaN      NaN\n",
       "3     NaN        NaN      NaN\n",
       "4     NaN        NaN      NaN\n",
       "5     NaN        NaN      NaN\n",
       "6     NaN        NaN      NaN\n",
       "7     NaN        NaN      NaN\n",
       "8     NaN        NaN      NaN\n",
       "9     NaN        NaN      NaN\n",
       "10    NaN        NaN      NaN\n",
       "11    NaN        NaN      NaN\n",
       "12    NaN        NaN      NaN\n",
       "13    NaN        NaN      NaN\n",
       "14    NaN        NaN      NaN"
      ]
     },
     "execution_count": 4,
     "metadata": {},
     "output_type": "execute_result"
    }
   ],
   "source": [
    "codeup_df = acquire.get_blog_articles()\n",
    "codeup_df"
   ]
  },
  {
   "cell_type": "code",
   "execution_count": null,
   "id": "ff040088",
   "metadata": {},
   "outputs": [],
   "source": []
  },
  {
   "cell_type": "code",
   "execution_count": null,
   "id": "d73faf49",
   "metadata": {},
   "outputs": [],
   "source": []
  },
  {
   "cell_type": "code",
   "execution_count": null,
   "id": "672c7286",
   "metadata": {},
   "outputs": [],
   "source": []
  }
 ],
 "metadata": {
  "kernelspec": {
   "display_name": "Python 3 (ipykernel)",
   "language": "python",
   "name": "python3"
  },
  "language_info": {
   "codemirror_mode": {
    "name": "ipython",
    "version": 3
   },
   "file_extension": ".py",
   "mimetype": "text/x-python",
   "name": "python",
   "nbconvert_exporter": "python",
   "pygments_lexer": "ipython3",
   "version": "3.9.7"
  }
 },
 "nbformat": 4,
 "nbformat_minor": 5
}
